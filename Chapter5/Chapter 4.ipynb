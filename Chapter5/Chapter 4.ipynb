{
 "cells": [
  {
   "cell_type": "code",
   "execution_count": null,
   "id": "ba9cecb8-410c-4429-9797-1c1acab4ed1b",
   "metadata": {},
   "outputs": [],
   "source": [
    "#4  NumPy Basics: Arrays and Vectorized Computation"
   ]
  },
  {
   "cell_type": "code",
   "execution_count": 1,
   "id": "ac4ae832-d297-4b70-836b-01cf5f368b13",
   "metadata": {},
   "outputs": [],
   "source": [
    "import numpy as np"
   ]
  },
  {
   "cell_type": "code",
   "execution_count": 2,
   "id": "0dfe2365-a72d-45ca-8806-8215eadf887b",
   "metadata": {},
   "outputs": [],
   "source": [
    "my_arr = np.arange(1_000_000)"
   ]
  },
  {
   "cell_type": "code",
   "execution_count": 3,
   "id": "61159032-5a02-48e6-9f3f-11f21bdb8f8e",
   "metadata": {},
   "outputs": [],
   "source": [
    "my_list = list(range(1_000_000))"
   ]
  },
  {
   "cell_type": "code",
   "execution_count": 6,
   "id": "ffb489e0-4475-4f88-b051-0af4633d6e24",
   "metadata": {},
   "outputs": [
    {
     "name": "stdout",
     "output_type": "stream",
     "text": [
      "830 μs ± 51.1 μs per loop (mean ± std. dev. of 7 runs, 1,000 loops each)\n"
     ]
    }
   ],
   "source": [
    "%timeit my_arr2 = my_arr * 2"
   ]
  },
  {
   "cell_type": "code",
   "execution_count": 7,
   "id": "aa0eb416-d25c-44e3-99c7-867edfb92cd3",
   "metadata": {},
   "outputs": [
    {
     "name": "stdout",
     "output_type": "stream",
     "text": [
      "25.6 ms ± 803 μs per loop (mean ± std. dev. of 7 runs, 10 loops each)\n"
     ]
    }
   ],
   "source": [
    "%timeit my_list2 = [x * 2 for x in my_list]"
   ]
  },
  {
   "cell_type": "code",
   "execution_count": 8,
   "id": "2f224405-b495-4548-94fe-f27fa76ec34c",
   "metadata": {},
   "outputs": [],
   "source": [
    "#4.1 The NumPy ndarray: A Multidimensional Array Object"
   ]
  },
  {
   "cell_type": "code",
   "execution_count": 9,
   "id": "8635160a-9c6b-45b6-b643-322e593ef236",
   "metadata": {},
   "outputs": [],
   "source": [
    "import numpy as np"
   ]
  },
  {
   "cell_type": "code",
   "execution_count": 10,
   "id": "0674d9e7-31f0-47b6-a03d-31d13bbc1ce7",
   "metadata": {},
   "outputs": [],
   "source": [
    "data = np.array([[1.5, -0.1, 3], [0, -3, 6.5]])"
   ]
  },
  {
   "cell_type": "code",
   "execution_count": 11,
   "id": "263ac1e3-f6ca-4a63-a705-09e7d0b1cc36",
   "metadata": {},
   "outputs": [
    {
     "data": {
      "text/plain": [
       "array([[ 1.5, -0.1,  3. ],\n",
       "       [ 0. , -3. ,  6.5]])"
      ]
     },
     "execution_count": 11,
     "metadata": {},
     "output_type": "execute_result"
    }
   ],
   "source": [
    "data"
   ]
  },
  {
   "cell_type": "code",
   "execution_count": 12,
   "id": "ece44367-803c-484c-981c-cacf689382ae",
   "metadata": {},
   "outputs": [
    {
     "data": {
      "text/plain": [
       "array([[ 15.,  -1.,  30.],\n",
       "       [  0., -30.,  65.]])"
      ]
     },
     "execution_count": 12,
     "metadata": {},
     "output_type": "execute_result"
    }
   ],
   "source": [
    "data*10"
   ]
  },
  {
   "cell_type": "code",
   "execution_count": 13,
   "id": "72ffd56d-04e1-4114-b98b-0d67a2c32251",
   "metadata": {},
   "outputs": [
    {
     "data": {
      "text/plain": [
       "array([[ 3. , -0.2,  6. ],\n",
       "       [ 0. , -6. , 13. ]])"
      ]
     },
     "execution_count": 13,
     "metadata": {},
     "output_type": "execute_result"
    }
   ],
   "source": [
    "data + data"
   ]
  },
  {
   "cell_type": "code",
   "execution_count": 14,
   "id": "61e7124b-1111-4d51-bdd0-44082b5d6167",
   "metadata": {},
   "outputs": [
    {
     "data": {
      "text/plain": [
       "(2, 3)"
      ]
     },
     "execution_count": 14,
     "metadata": {},
     "output_type": "execute_result"
    }
   ],
   "source": [
    "data.shape"
   ]
  },
  {
   "cell_type": "code",
   "execution_count": 15,
   "id": "69c4f965-f015-4e31-9e5d-bf1e16ea9254",
   "metadata": {},
   "outputs": [
    {
     "data": {
      "text/plain": [
       "dtype('float64')"
      ]
     },
     "execution_count": 15,
     "metadata": {},
     "output_type": "execute_result"
    }
   ],
   "source": [
    "data.dtype"
   ]
  },
  {
   "cell_type": "code",
   "execution_count": 16,
   "id": "b830c326-2dff-4d3e-89d4-f2150d81412b",
   "metadata": {},
   "outputs": [],
   "source": [
    "#Creating ndarrays"
   ]
  },
  {
   "cell_type": "code",
   "execution_count": 17,
   "id": "6481bc8c-f860-480e-b380-330d2dd37662",
   "metadata": {},
   "outputs": [],
   "source": [
    "data1 = [6, 7.5, 8, 0, 1]"
   ]
  },
  {
   "cell_type": "code",
   "execution_count": 18,
   "id": "4bb3145c-e898-40bd-abf2-0a27690632ac",
   "metadata": {},
   "outputs": [],
   "source": [
    "arr1 = np.array(data1)"
   ]
  },
  {
   "cell_type": "code",
   "execution_count": 19,
   "id": "775b9f84-184e-4940-a97f-5222c3d8cab8",
   "metadata": {},
   "outputs": [
    {
     "data": {
      "text/plain": [
       "array([6. , 7.5, 8. , 0. , 1. ])"
      ]
     },
     "execution_count": 19,
     "metadata": {},
     "output_type": "execute_result"
    }
   ],
   "source": [
    "arr1"
   ]
  },
  {
   "cell_type": "code",
   "execution_count": 20,
   "id": "690ce2ef-293f-4c0a-9673-2db5c9d894f2",
   "metadata": {},
   "outputs": [],
   "source": [
    "data2 = [[1, 2, 3, 4], [5, 6, 7, 8]]"
   ]
  },
  {
   "cell_type": "code",
   "execution_count": 21,
   "id": "97559433-740b-4550-ba09-7bf28412b548",
   "metadata": {},
   "outputs": [],
   "source": [
    "arr2 = np.array(data2)"
   ]
  },
  {
   "cell_type": "code",
   "execution_count": 22,
   "id": "0e0a54b2-ffd0-4f91-bd37-0bc0f53f18f3",
   "metadata": {},
   "outputs": [
    {
     "data": {
      "text/plain": [
       "array([[1, 2, 3, 4],\n",
       "       [5, 6, 7, 8]])"
      ]
     },
     "execution_count": 22,
     "metadata": {},
     "output_type": "execute_result"
    }
   ],
   "source": [
    "arr2"
   ]
  },
  {
   "cell_type": "code",
   "execution_count": 23,
   "id": "9eb5676f-cd2a-4908-b069-1db1b24d318f",
   "metadata": {},
   "outputs": [
    {
     "data": {
      "text/plain": [
       "2"
      ]
     },
     "execution_count": 23,
     "metadata": {},
     "output_type": "execute_result"
    }
   ],
   "source": [
    "arr2.ndim"
   ]
  },
  {
   "cell_type": "code",
   "execution_count": 24,
   "id": "878bb109-6109-4f5a-851c-f60ab380d266",
   "metadata": {},
   "outputs": [
    {
     "data": {
      "text/plain": [
       "(2, 4)"
      ]
     },
     "execution_count": 24,
     "metadata": {},
     "output_type": "execute_result"
    }
   ],
   "source": [
    "arr2.shape"
   ]
  },
  {
   "cell_type": "code",
   "execution_count": 26,
   "id": "1cfdd58d-02d1-434b-88ea-152cc2185195",
   "metadata": {},
   "outputs": [
    {
     "data": {
      "text/plain": [
       "dtype('float64')"
      ]
     },
     "execution_count": 26,
     "metadata": {},
     "output_type": "execute_result"
    }
   ],
   "source": [
    "arr1.dtype"
   ]
  },
  {
   "cell_type": "code",
   "execution_count": 27,
   "id": "88d68b85-9e0e-49a5-b930-5dea1cb4a024",
   "metadata": {},
   "outputs": [
    {
     "data": {
      "text/plain": [
       "dtype('int64')"
      ]
     },
     "execution_count": 27,
     "metadata": {},
     "output_type": "execute_result"
    }
   ],
   "source": [
    "arr2.dtype"
   ]
  },
  {
   "cell_type": "code",
   "execution_count": 28,
   "id": "f07c25ab-6e75-4ab8-9a6a-092b9fe34c83",
   "metadata": {},
   "outputs": [
    {
     "data": {
      "text/plain": [
       "array([0., 0., 0., 0., 0., 0., 0., 0., 0., 0.])"
      ]
     },
     "execution_count": 28,
     "metadata": {},
     "output_type": "execute_result"
    }
   ],
   "source": [
    "np.zeros(10)"
   ]
  },
  {
   "cell_type": "code",
   "execution_count": 29,
   "id": "0fc2506a-4c6a-447a-942f-de0353164274",
   "metadata": {},
   "outputs": [
    {
     "data": {
      "text/plain": [
       "array([[0., 0., 0., 0., 0., 0.],\n",
       "       [0., 0., 0., 0., 0., 0.],\n",
       "       [0., 0., 0., 0., 0., 0.]])"
      ]
     },
     "execution_count": 29,
     "metadata": {},
     "output_type": "execute_result"
    }
   ],
   "source": [
    "np.zeros((3, 6))"
   ]
  },
  {
   "cell_type": "code",
   "execution_count": 30,
   "id": "daf1a121-ce93-4219-98c8-45dc4b468182",
   "metadata": {},
   "outputs": [
    {
     "data": {
      "text/plain": [
       "array([[[ 3.10503618e+231, -1.28822985e-231],\n",
       "        [ 4.94065646e-322,  0.00000000e+000],\n",
       "        [ 0.00000000e+000,  0.00000000e+000]],\n",
       "\n",
       "       [[ 0.00000000e+000,  0.00000000e+000],\n",
       "        [ 0.00000000e+000,  0.00000000e+000],\n",
       "        [ 0.00000000e+000,  0.00000000e+000]]])"
      ]
     },
     "execution_count": 30,
     "metadata": {},
     "output_type": "execute_result"
    }
   ],
   "source": [
    "np.empty((2, 3, 2))"
   ]
  },
  {
   "cell_type": "code",
   "execution_count": 31,
   "id": "f6370cb0-485b-41c1-a7d3-eb25c1852a57",
   "metadata": {},
   "outputs": [
    {
     "data": {
      "text/plain": [
       "array([ 0,  1,  2,  3,  4,  5,  6,  7,  8,  9, 10, 11, 12, 13, 14])"
      ]
     },
     "execution_count": 31,
     "metadata": {},
     "output_type": "execute_result"
    }
   ],
   "source": [
    "np.arange(15)"
   ]
  },
  {
   "cell_type": "code",
   "execution_count": 32,
   "id": "d862a9d8-4d9e-4beb-9b9f-91fad0d390f5",
   "metadata": {},
   "outputs": [],
   "source": [
    "#Data Types for ndarrays"
   ]
  },
  {
   "cell_type": "code",
   "execution_count": 33,
   "id": "bc099b1e-4245-4db9-9fbf-b5de50401aeb",
   "metadata": {},
   "outputs": [],
   "source": [
    "arr1 = np.array([1, 2, 3], dtype=np.float64)"
   ]
  },
  {
   "cell_type": "code",
   "execution_count": 34,
   "id": "ea9d2dbf-fbac-499b-a196-b24b795c4c8e",
   "metadata": {},
   "outputs": [],
   "source": [
    "arr2 = np.array([1, 2, 3], dtype=np.int32)"
   ]
  },
  {
   "cell_type": "code",
   "execution_count": 35,
   "id": "ad4abbb9-6697-4fbf-a766-f3c56378c26e",
   "metadata": {},
   "outputs": [
    {
     "data": {
      "text/plain": [
       "dtype('float64')"
      ]
     },
     "execution_count": 35,
     "metadata": {},
     "output_type": "execute_result"
    }
   ],
   "source": [
    "arr1.dtype"
   ]
  },
  {
   "cell_type": "code",
   "execution_count": 36,
   "id": "7e035537-afba-40ff-8432-06770f066030",
   "metadata": {},
   "outputs": [
    {
     "data": {
      "text/plain": [
       "dtype('int32')"
      ]
     },
     "execution_count": 36,
     "metadata": {},
     "output_type": "execute_result"
    }
   ],
   "source": [
    "arr2.dtype"
   ]
  },
  {
   "cell_type": "code",
   "execution_count": 37,
   "id": "0d2094a1-c745-43c4-8c00-aada513ae965",
   "metadata": {},
   "outputs": [],
   "source": [
    "arr = np.array([1, 2, 3, 4, 5])"
   ]
  },
  {
   "cell_type": "code",
   "execution_count": 38,
   "id": "c700f1da-101e-4ebb-84fc-9d47caad11f1",
   "metadata": {},
   "outputs": [
    {
     "data": {
      "text/plain": [
       "dtype('int64')"
      ]
     },
     "execution_count": 38,
     "metadata": {},
     "output_type": "execute_result"
    }
   ],
   "source": [
    "arr.dtype"
   ]
  },
  {
   "cell_type": "code",
   "execution_count": 39,
   "id": "7509e82e-aa8b-44b0-9b41-68d242873e1c",
   "metadata": {},
   "outputs": [],
   "source": [
    "float_arr = arr.astype(np.float64)"
   ]
  },
  {
   "cell_type": "code",
   "execution_count": 40,
   "id": "8e2a126d-157b-4afd-b316-b478fb60039d",
   "metadata": {},
   "outputs": [
    {
     "data": {
      "text/plain": [
       "array([1., 2., 3., 4., 5.])"
      ]
     },
     "execution_count": 40,
     "metadata": {},
     "output_type": "execute_result"
    }
   ],
   "source": [
    "float_arr"
   ]
  },
  {
   "cell_type": "code",
   "execution_count": 42,
   "id": "40546736-8678-4913-9e76-98762945202a",
   "metadata": {},
   "outputs": [
    {
     "data": {
      "text/plain": [
       "dtype('float64')"
      ]
     },
     "execution_count": 42,
     "metadata": {},
     "output_type": "execute_result"
    }
   ],
   "source": [
    "float_arr.dtype"
   ]
  },
  {
   "cell_type": "code",
   "execution_count": 43,
   "id": "9a2c90e3-3ad8-47aa-b3c0-b8bc6079f18e",
   "metadata": {},
   "outputs": [],
   "source": [
    "arr = np.array([3.7, -1.2, -2.6, 0.5, 12.9, 10.1])"
   ]
  },
  {
   "cell_type": "code",
   "execution_count": 44,
   "id": "4dd80b7f-21d0-4706-848a-98e65fab022c",
   "metadata": {},
   "outputs": [
    {
     "data": {
      "text/plain": [
       "array([ 3.7, -1.2, -2.6,  0.5, 12.9, 10.1])"
      ]
     },
     "execution_count": 44,
     "metadata": {},
     "output_type": "execute_result"
    }
   ],
   "source": [
    "arr"
   ]
  },
  {
   "cell_type": "code",
   "execution_count": 45,
   "id": "d0b1baf4-6e6a-4df0-8034-bcc1e5547cb2",
   "metadata": {},
   "outputs": [
    {
     "data": {
      "text/plain": [
       "array([ 3, -1, -2,  0, 12, 10], dtype=int32)"
      ]
     },
     "execution_count": 45,
     "metadata": {},
     "output_type": "execute_result"
    }
   ],
   "source": [
    "arr.astype(np.int32)"
   ]
  },
  {
   "cell_type": "code",
   "execution_count": 54,
   "id": "65b4d09e-3c73-4909-b1e2-aa5071d97846",
   "metadata": {},
   "outputs": [],
   "source": [
    "numeric_strings = np.array([\"1.25\", \"-9.6\", \"42\"],dtype=np.bytes_)"
   ]
  },
  {
   "cell_type": "code",
   "execution_count": 55,
   "id": "eb72bd96-1ec0-406f-ba17-9d27a8f57e9c",
   "metadata": {},
   "outputs": [
    {
     "data": {
      "text/plain": [
       "array([ 1.25, -9.6 , 42.  ])"
      ]
     },
     "execution_count": 55,
     "metadata": {},
     "output_type": "execute_result"
    }
   ],
   "source": [
    "numeric_strings.astype(float)"
   ]
  },
  {
   "cell_type": "code",
   "execution_count": 56,
   "id": "d4c12b9a-35ed-484d-b853-501cc971d3ac",
   "metadata": {},
   "outputs": [],
   "source": [
    "int_array = np.arange(10)"
   ]
  },
  {
   "cell_type": "code",
   "execution_count": 57,
   "id": "66811cde-cfbc-4cf4-a7a8-59d7772153e2",
   "metadata": {},
   "outputs": [],
   "source": [
    "calibers = np.array([.22, .270, .357, .380, .44, .50], dtype=np.float64)"
   ]
  },
  {
   "cell_type": "code",
   "execution_count": 58,
   "id": "7eb1d1c8-7fe1-4098-b099-8e1956767d11",
   "metadata": {},
   "outputs": [
    {
     "data": {
      "text/plain": [
       "array([0., 1., 2., 3., 4., 5., 6., 7., 8., 9.])"
      ]
     },
     "execution_count": 58,
     "metadata": {},
     "output_type": "execute_result"
    }
   ],
   "source": [
    "int_array.astype(calibers.dtype)"
   ]
  },
  {
   "cell_type": "code",
   "execution_count": 59,
   "id": "fcb14b71-8290-415d-a1b5-bc73d6d56689",
   "metadata": {},
   "outputs": [],
   "source": [
    "zeros_uint32 = np.zeros(8, dtype=\"u4\")"
   ]
  },
  {
   "cell_type": "code",
   "execution_count": 60,
   "id": "dc8a220c-0b5a-4297-a537-18122aa784d7",
   "metadata": {},
   "outputs": [
    {
     "data": {
      "text/plain": [
       "array([0, 0, 0, 0, 0, 0, 0, 0], dtype=uint32)"
      ]
     },
     "execution_count": 60,
     "metadata": {},
     "output_type": "execute_result"
    }
   ],
   "source": [
    "zeros_uint32"
   ]
  },
  {
   "cell_type": "code",
   "execution_count": 61,
   "id": "a7f6a0e9-861c-438c-ac40-1a180aed8321",
   "metadata": {},
   "outputs": [],
   "source": [
    "#Arithmetic with NumPy Arrays"
   ]
  },
  {
   "cell_type": "code",
   "execution_count": 62,
   "id": "0542b087-82d3-4755-85de-8fdf3c734bf7",
   "metadata": {},
   "outputs": [],
   "source": [
    "arr = np.array([[1., 2., 3.], [4., 5., 6.]])"
   ]
  },
  {
   "cell_type": "code",
   "execution_count": 63,
   "id": "6a95f037-a9e1-46a8-9783-28a33c140a8f",
   "metadata": {},
   "outputs": [
    {
     "data": {
      "text/plain": [
       "array([[1., 2., 3.],\n",
       "       [4., 5., 6.]])"
      ]
     },
     "execution_count": 63,
     "metadata": {},
     "output_type": "execute_result"
    }
   ],
   "source": [
    "arr"
   ]
  },
  {
   "cell_type": "code",
   "execution_count": 64,
   "id": "cb29b209-9f25-4fd7-94a0-aa5ededf52cb",
   "metadata": {},
   "outputs": [
    {
     "data": {
      "text/plain": [
       "array([[ 1.,  4.,  9.],\n",
       "       [16., 25., 36.]])"
      ]
     },
     "execution_count": 64,
     "metadata": {},
     "output_type": "execute_result"
    }
   ],
   "source": [
    "arr * arr"
   ]
  },
  {
   "cell_type": "code",
   "execution_count": 65,
   "id": "b50196a4-4ef0-4ccc-b2bc-3dbe5e0aad16",
   "metadata": {},
   "outputs": [
    {
     "data": {
      "text/plain": [
       "array([[0., 0., 0.],\n",
       "       [0., 0., 0.]])"
      ]
     },
     "execution_count": 65,
     "metadata": {},
     "output_type": "execute_result"
    }
   ],
   "source": [
    "arr - arr"
   ]
  },
  {
   "cell_type": "code",
   "execution_count": 66,
   "id": "fa33b347-f9fa-46e3-af4a-b15b5080ee19",
   "metadata": {},
   "outputs": [
    {
     "data": {
      "text/plain": [
       "array([[1.        , 0.5       , 0.33333333],\n",
       "       [0.25      , 0.2       , 0.16666667]])"
      ]
     },
     "execution_count": 66,
     "metadata": {},
     "output_type": "execute_result"
    }
   ],
   "source": [
    "1 / arr"
   ]
  },
  {
   "cell_type": "code",
   "execution_count": 67,
   "id": "93ce28fc-03af-4a10-9a94-4e1ac81c56b1",
   "metadata": {},
   "outputs": [
    {
     "data": {
      "text/plain": [
       "array([[ 1.,  4.,  9.],\n",
       "       [16., 25., 36.]])"
      ]
     },
     "execution_count": 67,
     "metadata": {},
     "output_type": "execute_result"
    }
   ],
   "source": [
    "arr ** 2"
   ]
  },
  {
   "cell_type": "code",
   "execution_count": 68,
   "id": "637d7212-ba0d-4398-88f8-036085053f97",
   "metadata": {},
   "outputs": [],
   "source": [
    "arr2 = np.array([[0., 4., 1.], [7., 2., 12.]])"
   ]
  },
  {
   "cell_type": "code",
   "execution_count": 69,
   "id": "d6282713-f80e-4ae8-8da2-9d1dadbd1688",
   "metadata": {},
   "outputs": [
    {
     "data": {
      "text/plain": [
       "array([[ 0.,  4.,  1.],\n",
       "       [ 7.,  2., 12.]])"
      ]
     },
     "execution_count": 69,
     "metadata": {},
     "output_type": "execute_result"
    }
   ],
   "source": [
    "arr2"
   ]
  },
  {
   "cell_type": "code",
   "execution_count": 70,
   "id": "57cc2a47-a297-4d86-8b8a-e2da131e6098",
   "metadata": {},
   "outputs": [
    {
     "data": {
      "text/plain": [
       "array([[False,  True, False],\n",
       "       [ True, False,  True]])"
      ]
     },
     "execution_count": 70,
     "metadata": {},
     "output_type": "execute_result"
    }
   ],
   "source": [
    "arr2 > arr"
   ]
  },
  {
   "cell_type": "code",
   "execution_count": 71,
   "id": "9778f104-b5a3-449e-b492-6ae723562db3",
   "metadata": {},
   "outputs": [],
   "source": [
    "#Basic Indexing and Slicing"
   ]
  },
  {
   "cell_type": "code",
   "execution_count": 72,
   "id": "f5cf417e-e223-4e50-9192-cb2d0625383a",
   "metadata": {},
   "outputs": [],
   "source": [
    "arr = np.arange(10)"
   ]
  },
  {
   "cell_type": "code",
   "execution_count": 73,
   "id": "a65a71e6-22b6-434d-867a-9f48ff832037",
   "metadata": {},
   "outputs": [
    {
     "data": {
      "text/plain": [
       "array([0, 1, 2, 3, 4, 5, 6, 7, 8, 9])"
      ]
     },
     "execution_count": 73,
     "metadata": {},
     "output_type": "execute_result"
    }
   ],
   "source": [
    "arr"
   ]
  },
  {
   "cell_type": "code",
   "execution_count": 74,
   "id": "1634d75b-b62f-4e6b-844c-53759f05e46a",
   "metadata": {},
   "outputs": [
    {
     "data": {
      "text/plain": [
       "np.int64(5)"
      ]
     },
     "execution_count": 74,
     "metadata": {},
     "output_type": "execute_result"
    }
   ],
   "source": [
    "arr[5]"
   ]
  },
  {
   "cell_type": "code",
   "execution_count": 76,
   "id": "e79437e4-f1f6-4014-9f0e-f83aa27a43ab",
   "metadata": {},
   "outputs": [
    {
     "data": {
      "text/plain": [
       "array([5, 6, 7])"
      ]
     },
     "execution_count": 76,
     "metadata": {},
     "output_type": "execute_result"
    }
   ],
   "source": [
    "arr[5:8]"
   ]
  },
  {
   "cell_type": "code",
   "execution_count": 77,
   "id": "938330d4-e697-4783-9e50-f6361fa3342e",
   "metadata": {},
   "outputs": [],
   "source": [
    "arr[5:8] = 12"
   ]
  },
  {
   "cell_type": "code",
   "execution_count": 78,
   "id": "ef41c01d-5b4b-45fe-b36b-ff38e0b1b05e",
   "metadata": {},
   "outputs": [
    {
     "data": {
      "text/plain": [
       "array([ 0,  1,  2,  3,  4, 12, 12, 12,  8,  9])"
      ]
     },
     "execution_count": 78,
     "metadata": {},
     "output_type": "execute_result"
    }
   ],
   "source": [
    "arr"
   ]
  },
  {
   "cell_type": "code",
   "execution_count": 79,
   "id": "29645321-f4be-4a73-a8f2-32906159000a",
   "metadata": {},
   "outputs": [],
   "source": [
    "arr_slice = arr[5:8]"
   ]
  },
  {
   "cell_type": "code",
   "execution_count": 80,
   "id": "7bba6d0c-bebc-4917-bb33-87dde27364ea",
   "metadata": {},
   "outputs": [
    {
     "data": {
      "text/plain": [
       "array([12, 12, 12])"
      ]
     },
     "execution_count": 80,
     "metadata": {},
     "output_type": "execute_result"
    }
   ],
   "source": [
    "arr_slice"
   ]
  },
  {
   "cell_type": "code",
   "execution_count": 81,
   "id": "24f57738-e523-4abf-99fd-ee7eb8246a18",
   "metadata": {},
   "outputs": [],
   "source": [
    "arr_slice[1] = 12345"
   ]
  },
  {
   "cell_type": "code",
   "execution_count": 82,
   "id": "776e7be9-e323-464b-9c88-a0911c1ceddf",
   "metadata": {},
   "outputs": [
    {
     "data": {
      "text/plain": [
       "array([    0,     1,     2,     3,     4,    12, 12345,    12,     8,\n",
       "           9])"
      ]
     },
     "execution_count": 82,
     "metadata": {},
     "output_type": "execute_result"
    }
   ],
   "source": [
    "arr"
   ]
  },
  {
   "cell_type": "code",
   "execution_count": 83,
   "id": "1ac5128b-9bb2-4c59-aeeb-4c8a834465b8",
   "metadata": {},
   "outputs": [],
   "source": [
    "arr_slice[:] = 64"
   ]
  },
  {
   "cell_type": "code",
   "execution_count": 84,
   "id": "7f1fec9b-a100-4e75-9b4f-86bccf096678",
   "metadata": {},
   "outputs": [
    {
     "data": {
      "text/plain": [
       "array([ 0,  1,  2,  3,  4, 64, 64, 64,  8,  9])"
      ]
     },
     "execution_count": 84,
     "metadata": {},
     "output_type": "execute_result"
    }
   ],
   "source": [
    "arr"
   ]
  },
  {
   "cell_type": "code",
   "execution_count": 85,
   "id": "54bfd9f3-3892-4b5d-87e9-19c8d5889760",
   "metadata": {},
   "outputs": [],
   "source": [
    "arr2d = np.array([[1, 2, 3], [4, 5, 6], [7, 8, 9]])"
   ]
  },
  {
   "cell_type": "code",
   "execution_count": 86,
   "id": "74bf5d37-d1ff-45e5-9abc-e3b0869a4689",
   "metadata": {},
   "outputs": [
    {
     "data": {
      "text/plain": [
       "array([7, 8, 9])"
      ]
     },
     "execution_count": 86,
     "metadata": {},
     "output_type": "execute_result"
    }
   ],
   "source": [
    "arr2d[2]"
   ]
  },
  {
   "cell_type": "code",
   "execution_count": 87,
   "id": "bf074433-d0d5-4f42-a5b6-f40a21558813",
   "metadata": {},
   "outputs": [
    {
     "data": {
      "text/plain": [
       "np.int64(3)"
      ]
     },
     "execution_count": 87,
     "metadata": {},
     "output_type": "execute_result"
    }
   ],
   "source": [
    "arr2d[0][2]"
   ]
  },
  {
   "cell_type": "code",
   "execution_count": 88,
   "id": "a4206501-3677-4fb1-b57b-0b651d68ae94",
   "metadata": {},
   "outputs": [
    {
     "data": {
      "text/plain": [
       "np.int64(3)"
      ]
     },
     "execution_count": 88,
     "metadata": {},
     "output_type": "execute_result"
    }
   ],
   "source": [
    "arr2d[0, 2]"
   ]
  },
  {
   "cell_type": "code",
   "execution_count": 89,
   "id": "dd512d8a-1bbd-4d4f-893e-6abd821b2202",
   "metadata": {},
   "outputs": [],
   "source": [
    "arr3d = np.array([[[1, 2, 3], [4, 5, 6]], [[7, 8, 9], [10, 11, 12]]])"
   ]
  },
  {
   "cell_type": "code",
   "execution_count": 90,
   "id": "efc6b82d-b978-486a-b145-d07791ffdc42",
   "metadata": {},
   "outputs": [
    {
     "data": {
      "text/plain": [
       "array([[[ 1,  2,  3],\n",
       "        [ 4,  5,  6]],\n",
       "\n",
       "       [[ 7,  8,  9],\n",
       "        [10, 11, 12]]])"
      ]
     },
     "execution_count": 90,
     "metadata": {},
     "output_type": "execute_result"
    }
   ],
   "source": [
    "arr3d"
   ]
  },
  {
   "cell_type": "code",
   "execution_count": 91,
   "id": "e29f1205-1100-4fe0-a12e-50db6bb22ee4",
   "metadata": {},
   "outputs": [
    {
     "data": {
      "text/plain": [
       "array([[1, 2, 3],\n",
       "       [4, 5, 6]])"
      ]
     },
     "execution_count": 91,
     "metadata": {},
     "output_type": "execute_result"
    }
   ],
   "source": [
    "arr3d[0]"
   ]
  },
  {
   "cell_type": "code",
   "execution_count": 93,
   "id": "47e58925-244b-48f7-bc56-2e9d22327cdd",
   "metadata": {},
   "outputs": [],
   "source": [
    "old_values = arr3d[0].copy()"
   ]
  },
  {
   "cell_type": "code",
   "execution_count": 94,
   "id": "0c73f39e-fd7e-4b94-bfe5-d4f453f977b0",
   "metadata": {},
   "outputs": [],
   "source": [
    "arr3d[0] = 42"
   ]
  },
  {
   "cell_type": "code",
   "execution_count": 95,
   "id": "b75fecfd-384d-4467-bbeb-c4f265712fe6",
   "metadata": {},
   "outputs": [
    {
     "data": {
      "text/plain": [
       "array([[[42, 42, 42],\n",
       "        [42, 42, 42]],\n",
       "\n",
       "       [[ 7,  8,  9],\n",
       "        [10, 11, 12]]])"
      ]
     },
     "execution_count": 95,
     "metadata": {},
     "output_type": "execute_result"
    }
   ],
   "source": [
    "arr3d"
   ]
  },
  {
   "cell_type": "code",
   "execution_count": 96,
   "id": "2604c859-cb15-4ce7-acb6-e6f775873de3",
   "metadata": {},
   "outputs": [],
   "source": [
    "arr3d[0] = old_values"
   ]
  },
  {
   "cell_type": "code",
   "execution_count": 97,
   "id": "a59a84f4-aa5f-47d4-a325-36497fbc65ab",
   "metadata": {},
   "outputs": [
    {
     "data": {
      "text/plain": [
       "array([[[ 1,  2,  3],\n",
       "        [ 4,  5,  6]],\n",
       "\n",
       "       [[ 7,  8,  9],\n",
       "        [10, 11, 12]]])"
      ]
     },
     "execution_count": 97,
     "metadata": {},
     "output_type": "execute_result"
    }
   ],
   "source": [
    "arr3d"
   ]
  },
  {
   "cell_type": "code",
   "execution_count": 98,
   "id": "f244a063-917f-46ef-8343-6258794cfccf",
   "metadata": {},
   "outputs": [
    {
     "data": {
      "text/plain": [
       "array([7, 8, 9])"
      ]
     },
     "execution_count": 98,
     "metadata": {},
     "output_type": "execute_result"
    }
   ],
   "source": [
    "arr3d[1, 0]"
   ]
  },
  {
   "cell_type": "code",
   "execution_count": 99,
   "id": "499e9c3e-402b-4857-9934-20099472a0cd",
   "metadata": {},
   "outputs": [],
   "source": [
    "x = arr3d[1]"
   ]
  },
  {
   "cell_type": "code",
   "execution_count": 100,
   "id": "d8c6872d-6c81-4a9f-9186-35b57e9d3415",
   "metadata": {},
   "outputs": [
    {
     "data": {
      "text/plain": [
       "array([[ 7,  8,  9],\n",
       "       [10, 11, 12]])"
      ]
     },
     "execution_count": 100,
     "metadata": {},
     "output_type": "execute_result"
    }
   ],
   "source": [
    "x"
   ]
  },
  {
   "cell_type": "code",
   "execution_count": 101,
   "id": "b6584f52-0a24-4dd2-8a17-3b94a72cb4d1",
   "metadata": {},
   "outputs": [
    {
     "data": {
      "text/plain": [
       "array([7, 8, 9])"
      ]
     },
     "execution_count": 101,
     "metadata": {},
     "output_type": "execute_result"
    }
   ],
   "source": [
    "x[0]"
   ]
  },
  {
   "cell_type": "code",
   "execution_count": 102,
   "id": "894df6e8-69ad-476d-b52e-fb415f96438b",
   "metadata": {},
   "outputs": [
    {
     "data": {
      "text/plain": [
       "array([ 0,  1,  2,  3,  4, 64, 64, 64,  8,  9])"
      ]
     },
     "execution_count": 102,
     "metadata": {},
     "output_type": "execute_result"
    }
   ],
   "source": [
    "arr"
   ]
  },
  {
   "cell_type": "code",
   "execution_count": 103,
   "id": "54665474-5ef7-4258-8668-23d83ba9d0bc",
   "metadata": {},
   "outputs": [
    {
     "data": {
      "text/plain": [
       "array([ 1,  2,  3,  4, 64])"
      ]
     },
     "execution_count": 103,
     "metadata": {},
     "output_type": "execute_result"
    }
   ],
   "source": [
    "arr[1:6]"
   ]
  },
  {
   "cell_type": "code",
   "execution_count": 104,
   "id": "f5d2672f-76fd-4676-9a8c-e7c2bc83d6e8",
   "metadata": {},
   "outputs": [
    {
     "data": {
      "text/plain": [
       "array([[1, 2, 3],\n",
       "       [4, 5, 6],\n",
       "       [7, 8, 9]])"
      ]
     },
     "execution_count": 104,
     "metadata": {},
     "output_type": "execute_result"
    }
   ],
   "source": [
    "arr2d"
   ]
  },
  {
   "cell_type": "code",
   "execution_count": 105,
   "id": "8d65e374-3a78-4136-b965-436009025133",
   "metadata": {},
   "outputs": [
    {
     "data": {
      "text/plain": [
       "array([[1, 2, 3],\n",
       "       [4, 5, 6]])"
      ]
     },
     "execution_count": 105,
     "metadata": {},
     "output_type": "execute_result"
    }
   ],
   "source": [
    "arr2d[:2]"
   ]
  },
  {
   "cell_type": "code",
   "execution_count": 106,
   "id": "a7d3116f-e275-4cd5-aaa2-b933191eb0e7",
   "metadata": {},
   "outputs": [
    {
     "data": {
      "text/plain": [
       "array([[2, 3],\n",
       "       [5, 6]])"
      ]
     },
     "execution_count": 106,
     "metadata": {},
     "output_type": "execute_result"
    }
   ],
   "source": [
    "arr2d[:2, 1:]"
   ]
  },
  {
   "cell_type": "code",
   "execution_count": 107,
   "id": "48926ba6-0d04-460e-8d03-b5e6a6bdb08e",
   "metadata": {},
   "outputs": [],
   "source": [
    "lower_dim_slice = arr2d[1, :2]"
   ]
  },
  {
   "cell_type": "code",
   "execution_count": 108,
   "id": "2c4132e6-87be-41e2-a34f-4df28021db2b",
   "metadata": {},
   "outputs": [
    {
     "data": {
      "text/plain": [
       "(2,)"
      ]
     },
     "execution_count": 108,
     "metadata": {},
     "output_type": "execute_result"
    }
   ],
   "source": [
    "lower_dim_slice.shape"
   ]
  },
  {
   "cell_type": "code",
   "execution_count": 109,
   "id": "8cd3e7a6-11f5-4381-a600-1ec775a54678",
   "metadata": {},
   "outputs": [
    {
     "data": {
      "text/plain": [
       "array([3, 6])"
      ]
     },
     "execution_count": 109,
     "metadata": {},
     "output_type": "execute_result"
    }
   ],
   "source": [
    "arr2d[:2, 2]"
   ]
  },
  {
   "cell_type": "code",
   "execution_count": 110,
   "id": "5a5a2439-fd7b-4e9b-83a8-403a56ca915c",
   "metadata": {},
   "outputs": [
    {
     "data": {
      "text/plain": [
       "array([[1],\n",
       "       [4],\n",
       "       [7]])"
      ]
     },
     "execution_count": 110,
     "metadata": {},
     "output_type": "execute_result"
    }
   ],
   "source": [
    "arr2d[:, :1]"
   ]
  },
  {
   "cell_type": "code",
   "execution_count": 111,
   "id": "71310a89-c5e6-4956-a70d-ddd756399851",
   "metadata": {},
   "outputs": [],
   "source": [
    "arr2d[:2, 1:] = 0"
   ]
  },
  {
   "cell_type": "code",
   "execution_count": 112,
   "id": "459e2e88-a71b-4a01-8184-a814b9b85cfa",
   "metadata": {},
   "outputs": [
    {
     "data": {
      "text/plain": [
       "array([[1, 0, 0],\n",
       "       [4, 0, 0],\n",
       "       [7, 8, 9]])"
      ]
     },
     "execution_count": 112,
     "metadata": {},
     "output_type": "execute_result"
    }
   ],
   "source": [
    "arr2d"
   ]
  },
  {
   "cell_type": "code",
   "execution_count": 113,
   "id": "da711e2e-398c-4304-bcee-4391947e9704",
   "metadata": {},
   "outputs": [],
   "source": [
    "#Boolean Indexing"
   ]
  },
  {
   "cell_type": "code",
   "execution_count": 114,
   "id": "2d1f89ca-1829-4a46-b065-499cf36577d4",
   "metadata": {},
   "outputs": [],
   "source": [
    "names = np.array([\"Bob\", \"Joe\", \"Will\", \"Bob\", \"Will\", \"Joe\", \"Joe\"])"
   ]
  },
  {
   "cell_type": "code",
   "execution_count": 115,
   "id": "261718c6-3183-43a9-abdf-7e0f8ba02965",
   "metadata": {},
   "outputs": [],
   "source": [
    "data = np.array([[4, 7], [0, 2], [-5, 6], [0, 0], [1, 2],[-12, -4], [3, 4]])"
   ]
  },
  {
   "cell_type": "code",
   "execution_count": 116,
   "id": "8f149883-1836-45fa-a86b-6eeca15109ef",
   "metadata": {},
   "outputs": [
    {
     "data": {
      "text/plain": [
       "array(['Bob', 'Joe', 'Will', 'Bob', 'Will', 'Joe', 'Joe'], dtype='<U4')"
      ]
     },
     "execution_count": 116,
     "metadata": {},
     "output_type": "execute_result"
    }
   ],
   "source": [
    "names"
   ]
  },
  {
   "cell_type": "code",
   "execution_count": 117,
   "id": "a3b71248-573a-4bd8-b0c0-d68fcd96278f",
   "metadata": {},
   "outputs": [
    {
     "data": {
      "text/plain": [
       "array([[  4,   7],\n",
       "       [  0,   2],\n",
       "       [ -5,   6],\n",
       "       [  0,   0],\n",
       "       [  1,   2],\n",
       "       [-12,  -4],\n",
       "       [  3,   4]])"
      ]
     },
     "execution_count": 117,
     "metadata": {},
     "output_type": "execute_result"
    }
   ],
   "source": [
    "data"
   ]
  },
  {
   "cell_type": "code",
   "execution_count": 119,
   "id": "bc9e63ca-70e4-4654-9e09-8786da5d4ee6",
   "metadata": {},
   "outputs": [
    {
     "data": {
      "text/plain": [
       "array([ True, False, False,  True, False, False, False])"
      ]
     },
     "execution_count": 119,
     "metadata": {},
     "output_type": "execute_result"
    }
   ],
   "source": [
    "names == \"Bob\""
   ]
  },
  {
   "cell_type": "code",
   "execution_count": 120,
   "id": "913340cd-c48a-444d-ac3f-203ef79329a0",
   "metadata": {},
   "outputs": [
    {
     "data": {
      "text/plain": [
       "array([[4, 7],\n",
       "       [0, 0]])"
      ]
     },
     "execution_count": 120,
     "metadata": {},
     "output_type": "execute_result"
    }
   ],
   "source": [
    "data[names == \"Bob\"]"
   ]
  },
  {
   "cell_type": "code",
   "execution_count": 121,
   "id": "975063df-958f-43ab-ae09-e6b1f4da4c4b",
   "metadata": {},
   "outputs": [
    {
     "data": {
      "text/plain": [
       "array([[7],\n",
       "       [0]])"
      ]
     },
     "execution_count": 121,
     "metadata": {},
     "output_type": "execute_result"
    }
   ],
   "source": [
    "data[names == \"Bob\", 1:]"
   ]
  },
  {
   "cell_type": "code",
   "execution_count": 122,
   "id": "9fe8532d-7a5e-44b6-bd20-810d78177757",
   "metadata": {},
   "outputs": [
    {
     "data": {
      "text/plain": [
       "array([7, 0])"
      ]
     },
     "execution_count": 122,
     "metadata": {},
     "output_type": "execute_result"
    }
   ],
   "source": [
    "data[names == \"Bob\", 1]"
   ]
  },
  {
   "cell_type": "code",
   "execution_count": 124,
   "id": "7220d25f-582d-4f1e-8276-05fcd7eab4c5",
   "metadata": {},
   "outputs": [
    {
     "data": {
      "text/plain": [
       "array([False,  True,  True, False,  True,  True,  True])"
      ]
     },
     "execution_count": 124,
     "metadata": {},
     "output_type": "execute_result"
    }
   ],
   "source": [
    "names != \"Bob\""
   ]
  },
  {
   "cell_type": "code",
   "execution_count": 125,
   "id": "f0ea640f-baa2-4741-8069-783be0e3021f",
   "metadata": {},
   "outputs": [
    {
     "data": {
      "text/plain": [
       "array([False,  True,  True, False,  True,  True,  True])"
      ]
     },
     "execution_count": 125,
     "metadata": {},
     "output_type": "execute_result"
    }
   ],
   "source": [
    "~(names == \"Bob\")"
   ]
  },
  {
   "cell_type": "code",
   "execution_count": 126,
   "id": "6c70bbb5-0f10-45d2-a6dc-09dec6c4d1ee",
   "metadata": {},
   "outputs": [
    {
     "data": {
      "text/plain": [
       "array([[  0,   2],\n",
       "       [ -5,   6],\n",
       "       [  1,   2],\n",
       "       [-12,  -4],\n",
       "       [  3,   4]])"
      ]
     },
     "execution_count": 126,
     "metadata": {},
     "output_type": "execute_result"
    }
   ],
   "source": [
    "data[~(names == \"Bob\")]"
   ]
  },
  {
   "cell_type": "code",
   "execution_count": 127,
   "id": "8adb77fe-0040-4ad2-bddc-2506c5021033",
   "metadata": {},
   "outputs": [],
   "source": [
    "cond = names == \"Bob\""
   ]
  },
  {
   "cell_type": "code",
   "execution_count": 128,
   "id": "f2600ba3-56b7-4a96-aa18-cf597eb00629",
   "metadata": {},
   "outputs": [
    {
     "data": {
      "text/plain": [
       "array([[  0,   2],\n",
       "       [ -5,   6],\n",
       "       [  1,   2],\n",
       "       [-12,  -4],\n",
       "       [  3,   4]])"
      ]
     },
     "execution_count": 128,
     "metadata": {},
     "output_type": "execute_result"
    }
   ],
   "source": [
    "data[~cond]"
   ]
  },
  {
   "cell_type": "code",
   "execution_count": 129,
   "id": "769c6fa8-4626-4c5a-ab6e-693d8248ecf0",
   "metadata": {},
   "outputs": [],
   "source": [
    "mask = (names == \"Bob\") | (names == \"Will\")"
   ]
  },
  {
   "cell_type": "code",
   "execution_count": 130,
   "id": "f23277e5-7184-4271-9e4f-cd25888706f4",
   "metadata": {},
   "outputs": [
    {
     "data": {
      "text/plain": [
       "array([ True, False,  True,  True,  True, False, False])"
      ]
     },
     "execution_count": 130,
     "metadata": {},
     "output_type": "execute_result"
    }
   ],
   "source": [
    "mask"
   ]
  },
  {
   "cell_type": "code",
   "execution_count": 131,
   "id": "0c7d007a-1811-4fbd-9d88-2df5a1c094ff",
   "metadata": {},
   "outputs": [
    {
     "data": {
      "text/plain": [
       "array([[ 4,  7],\n",
       "       [-5,  6],\n",
       "       [ 0,  0],\n",
       "       [ 1,  2]])"
      ]
     },
     "execution_count": 131,
     "metadata": {},
     "output_type": "execute_result"
    }
   ],
   "source": [
    "data[mask]"
   ]
  },
  {
   "cell_type": "code",
   "execution_count": 132,
   "id": "5bc83b37-2462-48f1-84a8-969b261caf64",
   "metadata": {},
   "outputs": [],
   "source": [
    " data[data < 0] = 0"
   ]
  },
  {
   "cell_type": "code",
   "execution_count": 133,
   "id": "4fc7d62e-c588-4f4e-8786-fa3ba5011243",
   "metadata": {},
   "outputs": [
    {
     "data": {
      "text/plain": [
       "array([[4, 7],\n",
       "       [0, 2],\n",
       "       [0, 6],\n",
       "       [0, 0],\n",
       "       [1, 2],\n",
       "       [0, 0],\n",
       "       [3, 4]])"
      ]
     },
     "execution_count": 133,
     "metadata": {},
     "output_type": "execute_result"
    }
   ],
   "source": [
    "data"
   ]
  },
  {
   "cell_type": "code",
   "execution_count": 134,
   "id": "5d11c3b4-9238-4d88-acba-cd35d4e4616f",
   "metadata": {},
   "outputs": [],
   "source": [
    "data[names != \"Joe\"] = 7"
   ]
  },
  {
   "cell_type": "code",
   "execution_count": 135,
   "id": "76c963dd-8524-4a70-9d6c-2edf12d9f11b",
   "metadata": {},
   "outputs": [
    {
     "data": {
      "text/plain": [
       "array([[7, 7],\n",
       "       [0, 2],\n",
       "       [7, 7],\n",
       "       [7, 7],\n",
       "       [7, 7],\n",
       "       [0, 0],\n",
       "       [3, 4]])"
      ]
     },
     "execution_count": 135,
     "metadata": {},
     "output_type": "execute_result"
    }
   ],
   "source": [
    "data"
   ]
  },
  {
   "cell_type": "code",
   "execution_count": 136,
   "id": "9ebd730a-f18e-414d-b3c9-a0d30f17c5c7",
   "metadata": {},
   "outputs": [],
   "source": [
    "#Fancy Indexing"
   ]
  },
  {
   "cell_type": "code",
   "execution_count": 137,
   "id": "b3ebb0bb-c1ce-42f8-a375-d7d38f70831c",
   "metadata": {},
   "outputs": [],
   "source": [
    "arr = np.zeros((8, 4))"
   ]
  },
  {
   "cell_type": "code",
   "execution_count": 138,
   "id": "875ae619-dd53-44c4-8a84-bd0b3bb6c9e5",
   "metadata": {},
   "outputs": [],
   "source": [
    "for i in range(8):arr[i] = i"
   ]
  },
  {
   "cell_type": "code",
   "execution_count": 139,
   "id": "24c4b440-632d-4d82-b011-9e57571cf6f3",
   "metadata": {},
   "outputs": [
    {
     "data": {
      "text/plain": [
       "array([[0., 0., 0., 0.],\n",
       "       [1., 1., 1., 1.],\n",
       "       [2., 2., 2., 2.],\n",
       "       [3., 3., 3., 3.],\n",
       "       [4., 4., 4., 4.],\n",
       "       [5., 5., 5., 5.],\n",
       "       [6., 6., 6., 6.],\n",
       "       [7., 7., 7., 7.]])"
      ]
     },
     "execution_count": 139,
     "metadata": {},
     "output_type": "execute_result"
    }
   ],
   "source": [
    "arr"
   ]
  },
  {
   "cell_type": "code",
   "execution_count": 140,
   "id": "453ebb6f-7bfc-4a03-9949-0d141e9332c9",
   "metadata": {},
   "outputs": [
    {
     "data": {
      "text/plain": [
       "array([[4., 4., 4., 4.],\n",
       "       [3., 3., 3., 3.],\n",
       "       [0., 0., 0., 0.],\n",
       "       [6., 6., 6., 6.]])"
      ]
     },
     "execution_count": 140,
     "metadata": {},
     "output_type": "execute_result"
    }
   ],
   "source": [
    "arr[[4, 3, 0, 6]]"
   ]
  },
  {
   "cell_type": "code",
   "execution_count": 141,
   "id": "fa6619f8-cb84-4468-b01c-a1378038d4fb",
   "metadata": {},
   "outputs": [
    {
     "data": {
      "text/plain": [
       "array([[5., 5., 5., 5.],\n",
       "       [3., 3., 3., 3.],\n",
       "       [1., 1., 1., 1.]])"
      ]
     },
     "execution_count": 141,
     "metadata": {},
     "output_type": "execute_result"
    }
   ],
   "source": [
    "arr[[-3, -5, -7]]"
   ]
  },
  {
   "cell_type": "code",
   "execution_count": 142,
   "id": "727727fb-2eaa-451b-aec8-f2f62d82fa36",
   "metadata": {},
   "outputs": [],
   "source": [
    "arr = np.arange(32).reshape((8, 4))"
   ]
  },
  {
   "cell_type": "code",
   "execution_count": 143,
   "id": "14c79afc-e07f-44de-9105-b008265c8e01",
   "metadata": {},
   "outputs": [
    {
     "data": {
      "text/plain": [
       "array([[ 0,  1,  2,  3],\n",
       "       [ 4,  5,  6,  7],\n",
       "       [ 8,  9, 10, 11],\n",
       "       [12, 13, 14, 15],\n",
       "       [16, 17, 18, 19],\n",
       "       [20, 21, 22, 23],\n",
       "       [24, 25, 26, 27],\n",
       "       [28, 29, 30, 31]])"
      ]
     },
     "execution_count": 143,
     "metadata": {},
     "output_type": "execute_result"
    }
   ],
   "source": [
    "arr"
   ]
  },
  {
   "cell_type": "code",
   "execution_count": 144,
   "id": "9792c43a-3615-42ba-b521-4e3201f7166c",
   "metadata": {},
   "outputs": [
    {
     "data": {
      "text/plain": [
       "array([[ 4,  7,  5,  6],\n",
       "       [20, 23, 21, 22],\n",
       "       [28, 31, 29, 30],\n",
       "       [ 8, 11,  9, 10]])"
      ]
     },
     "execution_count": 144,
     "metadata": {},
     "output_type": "execute_result"
    }
   ],
   "source": [
    "arr[[1, 5, 7, 2]][:, [0, 3, 1, 2]]"
   ]
  },
  {
   "cell_type": "code",
   "execution_count": 145,
   "id": "d40d51fe-8683-4e1e-95cc-c2c6fdcc2ae2",
   "metadata": {},
   "outputs": [
    {
     "data": {
      "text/plain": [
       "array([ 4, 23, 29, 10])"
      ]
     },
     "execution_count": 145,
     "metadata": {},
     "output_type": "execute_result"
    }
   ],
   "source": [
    "arr[[1, 5, 7, 2], [0, 3, 1, 2]]"
   ]
  },
  {
   "cell_type": "code",
   "execution_count": 146,
   "id": "5d83b305-f642-4243-a29b-b56491a748aa",
   "metadata": {},
   "outputs": [],
   "source": [
    "arr[[1, 5, 7, 2], [0, 3, 1, 2]] = 0"
   ]
  },
  {
   "cell_type": "code",
   "execution_count": 147,
   "id": "f52e4fb8-9dc9-47d7-a01d-34a8b6024ab0",
   "metadata": {},
   "outputs": [
    {
     "data": {
      "text/plain": [
       "array([[ 0,  1,  2,  3],\n",
       "       [ 0,  5,  6,  7],\n",
       "       [ 8,  9,  0, 11],\n",
       "       [12, 13, 14, 15],\n",
       "       [16, 17, 18, 19],\n",
       "       [20, 21, 22,  0],\n",
       "       [24, 25, 26, 27],\n",
       "       [28,  0, 30, 31]])"
      ]
     },
     "execution_count": 147,
     "metadata": {},
     "output_type": "execute_result"
    }
   ],
   "source": [
    "arr"
   ]
  },
  {
   "cell_type": "code",
   "execution_count": 148,
   "id": "1c1624df-cff7-4a01-85e4-874b12ce6265",
   "metadata": {},
   "outputs": [],
   "source": [
    "#Transposing Arrays and Swapping Axes"
   ]
  },
  {
   "cell_type": "code",
   "execution_count": 149,
   "id": "053206e1-fff0-4f7e-a938-fcebcc4ee0b0",
   "metadata": {},
   "outputs": [],
   "source": [
    "arr = np.arange(15).reshape((3, 5))"
   ]
  },
  {
   "cell_type": "code",
   "execution_count": 150,
   "id": "ed6f29ce-4e05-4d6d-b629-78af43d1a32b",
   "metadata": {},
   "outputs": [
    {
     "data": {
      "text/plain": [
       "array([[ 0,  1,  2,  3,  4],\n",
       "       [ 5,  6,  7,  8,  9],\n",
       "       [10, 11, 12, 13, 14]])"
      ]
     },
     "execution_count": 150,
     "metadata": {},
     "output_type": "execute_result"
    }
   ],
   "source": [
    "arr"
   ]
  },
  {
   "cell_type": "code",
   "execution_count": 151,
   "id": "2beeef64-a75f-414f-b065-16aa7a4a80fd",
   "metadata": {},
   "outputs": [
    {
     "data": {
      "text/plain": [
       "array([[ 0,  5, 10],\n",
       "       [ 1,  6, 11],\n",
       "       [ 2,  7, 12],\n",
       "       [ 3,  8, 13],\n",
       "       [ 4,  9, 14]])"
      ]
     },
     "execution_count": 151,
     "metadata": {},
     "output_type": "execute_result"
    }
   ],
   "source": [
    "arr.T"
   ]
  },
  {
   "cell_type": "code",
   "execution_count": 152,
   "id": "2ee65da4-ad57-4857-81e4-3fcdb399d333",
   "metadata": {},
   "outputs": [],
   "source": [
    "arr = np.array([[0, 1, 0], [1, 2, -2], [6, 3, 2], [-1, 0, -1], [1, 0, 1\n",
    "]])"
   ]
  },
  {
   "cell_type": "code",
   "execution_count": 153,
   "id": "8eba94ea-3fe5-4cf9-b273-8a0bee5ac786",
   "metadata": {},
   "outputs": [
    {
     "data": {
      "text/plain": [
       "array([[ 0,  1,  0],\n",
       "       [ 1,  2, -2],\n",
       "       [ 6,  3,  2],\n",
       "       [-1,  0, -1],\n",
       "       [ 1,  0,  1]])"
      ]
     },
     "execution_count": 153,
     "metadata": {},
     "output_type": "execute_result"
    }
   ],
   "source": [
    "arr"
   ]
  },
  {
   "cell_type": "code",
   "execution_count": 154,
   "id": "1d5f41ac-73b1-41e7-b6f2-78163f60b16f",
   "metadata": {},
   "outputs": [
    {
     "data": {
      "text/plain": [
       "array([[39, 20, 12],\n",
       "       [20, 14,  2],\n",
       "       [12,  2, 10]])"
      ]
     },
     "execution_count": 154,
     "metadata": {},
     "output_type": "execute_result"
    }
   ],
   "source": [
    "np.dot(arr.T, arr)"
   ]
  },
  {
   "cell_type": "code",
   "execution_count": 155,
   "id": "b22c8d62-114e-476a-b150-c0b620d15196",
   "metadata": {},
   "outputs": [
    {
     "data": {
      "text/plain": [
       "array([[39, 20, 12],\n",
       "       [20, 14,  2],\n",
       "       [12,  2, 10]])"
      ]
     },
     "execution_count": 155,
     "metadata": {},
     "output_type": "execute_result"
    }
   ],
   "source": [
    "arr.T @ arr"
   ]
  },
  {
   "cell_type": "code",
   "execution_count": 156,
   "id": "9cad8997-475b-4949-a614-a5105742abe6",
   "metadata": {},
   "outputs": [
    {
     "data": {
      "text/plain": [
       "array([[ 0,  1,  0],\n",
       "       [ 1,  2, -2],\n",
       "       [ 6,  3,  2],\n",
       "       [-1,  0, -1],\n",
       "       [ 1,  0,  1]])"
      ]
     },
     "execution_count": 156,
     "metadata": {},
     "output_type": "execute_result"
    }
   ],
   "source": [
    "arr"
   ]
  },
  {
   "cell_type": "code",
   "execution_count": 157,
   "id": "400f4c54-cb27-4ee5-bae6-30474e23f6fe",
   "metadata": {},
   "outputs": [
    {
     "data": {
      "text/plain": [
       "array([[ 0,  1,  6, -1,  1],\n",
       "       [ 1,  2,  3,  0,  0],\n",
       "       [ 0, -2,  2, -1,  1]])"
      ]
     },
     "execution_count": 157,
     "metadata": {},
     "output_type": "execute_result"
    }
   ],
   "source": [
    "arr.swapaxes(0, 1)"
   ]
  },
  {
   "cell_type": "code",
   "execution_count": 158,
   "id": "0cdf7479-1f29-44a1-9b5e-f0107a0f1f25",
   "metadata": {},
   "outputs": [],
   "source": [
    "#4.2 Pseudorandom Number Generation"
   ]
  },
  {
   "cell_type": "code",
   "execution_count": 159,
   "id": "7a18b312-7663-4f48-8eb6-f25a5acc79bd",
   "metadata": {},
   "outputs": [],
   "source": [
    "samples = np.random.standard_normal(size=(4, 4))"
   ]
  },
  {
   "cell_type": "code",
   "execution_count": 160,
   "id": "39100e39-b5e6-4640-8b35-79169fa27141",
   "metadata": {},
   "outputs": [
    {
     "data": {
      "text/plain": [
       "array([[-0.48572495,  0.26859606, -0.4339813 , -1.89192063],\n",
       "       [ 0.23944321, -0.18426792, -0.8480776 ,  0.53080387],\n",
       "       [-1.14633341,  0.30450183, -0.23129552, -0.68724049],\n",
       "       [ 1.72532954,  0.32746641, -1.06616677, -0.13525204]])"
      ]
     },
     "execution_count": 160,
     "metadata": {},
     "output_type": "execute_result"
    }
   ],
   "source": [
    "samples"
   ]
  },
  {
   "cell_type": "code",
   "execution_count": 161,
   "id": "93a64376-1f04-4435-96c3-a1c355d63352",
   "metadata": {},
   "outputs": [],
   "source": [
    "from random import normalvariate"
   ]
  },
  {
   "cell_type": "code",
   "execution_count": 162,
   "id": "4417203d-a55f-4e61-b9b1-31f6085c2c9f",
   "metadata": {},
   "outputs": [],
   "source": [
    "N = 1_000_000"
   ]
  },
  {
   "cell_type": "code",
   "execution_count": 165,
   "id": "4f2d8f09-3f76-4d19-bf34-0d13fd0dcdbc",
   "metadata": {},
   "outputs": [
    {
     "name": "stdout",
     "output_type": "stream",
     "text": [
      "329 ms ± 4.63 ms per loop (mean ± std. dev. of 7 runs, 1 loop each)\n"
     ]
    }
   ],
   "source": [
    "%timeit samples = [normalvariate(0, 1) for _ in range(N)]"
   ]
  },
  {
   "cell_type": "code",
   "execution_count": 166,
   "id": "a99fc58c-29a8-400d-a70e-3ec864ff3ee2",
   "metadata": {},
   "outputs": [
    {
     "name": "stdout",
     "output_type": "stream",
     "text": [
      "15.3 ms ± 132 μs per loop (mean ± std. dev. of 7 runs, 100 loops each)\n"
     ]
    }
   ],
   "source": [
    "%timeit np.random.standard_normal(N)"
   ]
  },
  {
   "cell_type": "code",
   "execution_count": 167,
   "id": "6c999abd-ad8b-405c-8ffc-4c706bbf0fb6",
   "metadata": {},
   "outputs": [],
   "source": [
    "rng = np.random.default_rng(seed=12345)"
   ]
  },
  {
   "cell_type": "code",
   "execution_count": 168,
   "id": "46361e0a-8e7b-4e92-967b-172b9d8e3943",
   "metadata": {},
   "outputs": [],
   "source": [
    "data = rng.standard_normal((2, 3))"
   ]
  },
  {
   "cell_type": "code",
   "execution_count": 169,
   "id": "72faf650-881e-48a7-bd39-9b1bf239e7d4",
   "metadata": {},
   "outputs": [
    {
     "data": {
      "text/plain": [
       "numpy.random._generator.Generator"
      ]
     },
     "execution_count": 169,
     "metadata": {},
     "output_type": "execute_result"
    }
   ],
   "source": [
    "type(rng)"
   ]
  },
  {
   "cell_type": "code",
   "execution_count": 170,
   "id": "de3a3f9d-ac85-4283-8689-aa33200a7d47",
   "metadata": {},
   "outputs": [],
   "source": [
    "#4.3 Universal Functions: Fast Element-Wise Array Functions"
   ]
  },
  {
   "cell_type": "code",
   "execution_count": 171,
   "id": "516a6814-4e34-49f1-a0d3-0561af137bd3",
   "metadata": {},
   "outputs": [],
   "source": [
    "arr = np.arange(10)"
   ]
  },
  {
   "cell_type": "code",
   "execution_count": 172,
   "id": "21065caa-faaa-41fb-9779-e8e13379ca44",
   "metadata": {},
   "outputs": [
    {
     "data": {
      "text/plain": [
       "array([0, 1, 2, 3, 4, 5, 6, 7, 8, 9])"
      ]
     },
     "execution_count": 172,
     "metadata": {},
     "output_type": "execute_result"
    }
   ],
   "source": [
    "arr"
   ]
  },
  {
   "cell_type": "code",
   "execution_count": 173,
   "id": "cd905ad7-2003-466e-9580-1d10a585b748",
   "metadata": {},
   "outputs": [
    {
     "data": {
      "text/plain": [
       "array([0.        , 1.        , 1.41421356, 1.73205081, 2.        ,\n",
       "       2.23606798, 2.44948974, 2.64575131, 2.82842712, 3.        ])"
      ]
     },
     "execution_count": 173,
     "metadata": {},
     "output_type": "execute_result"
    }
   ],
   "source": [
    "np.sqrt(arr)"
   ]
  },
  {
   "cell_type": "code",
   "execution_count": 174,
   "id": "52a60968-241e-4a38-8c64-a0165daeff3a",
   "metadata": {},
   "outputs": [
    {
     "data": {
      "text/plain": [
       "array([1.00000000e+00, 2.71828183e+00, 7.38905610e+00, 2.00855369e+01,\n",
       "       5.45981500e+01, 1.48413159e+02, 4.03428793e+02, 1.09663316e+03,\n",
       "       2.98095799e+03, 8.10308393e+03])"
      ]
     },
     "execution_count": 174,
     "metadata": {},
     "output_type": "execute_result"
    }
   ],
   "source": [
    "np.exp(arr)"
   ]
  },
  {
   "cell_type": "code",
   "execution_count": 175,
   "id": "f088263e-8772-484d-ba0e-589f96617110",
   "metadata": {},
   "outputs": [],
   "source": [
    "x = rng.standard_normal(8)"
   ]
  },
  {
   "cell_type": "code",
   "execution_count": 176,
   "id": "5a41db06-8ee1-4c67-b470-14962465fb54",
   "metadata": {},
   "outputs": [],
   "source": [
    "y = rng.standard_normal(8)"
   ]
  },
  {
   "cell_type": "code",
   "execution_count": 177,
   "id": "fc824695-4e43-4d89-bf00-8c6c5c189fec",
   "metadata": {},
   "outputs": [
    {
     "data": {
      "text/plain": [
       "array([-1.3677927 ,  0.6488928 ,  0.36105811, -1.95286306,  2.34740965,\n",
       "        0.96849691, -0.75938718,  0.90219827])"
      ]
     },
     "execution_count": 177,
     "metadata": {},
     "output_type": "execute_result"
    }
   ],
   "source": [
    "x"
   ]
  },
  {
   "cell_type": "code",
   "execution_count": 178,
   "id": "255de1be-2768-4a12-8590-f91252e8ffbb",
   "metadata": {},
   "outputs": [
    {
     "data": {
      "text/plain": [
       "array([-0.46695317, -0.06068952,  0.78884434, -1.25666813,  0.57585751,\n",
       "        1.39897899,  1.32229806, -0.29969852])"
      ]
     },
     "execution_count": 178,
     "metadata": {},
     "output_type": "execute_result"
    }
   ],
   "source": [
    "y"
   ]
  },
  {
   "cell_type": "code",
   "execution_count": 182,
   "id": "3fc0dcff-633d-4dc2-9fad-ec239312a6a6",
   "metadata": {},
   "outputs": [
    {
     "data": {
      "text/plain": [
       "array([-0.46695317,  0.6488928 ,  0.78884434, -1.25666813,  2.34740965,\n",
       "        1.39897899,  1.32229806,  0.90219827])"
      ]
     },
     "execution_count": 182,
     "metadata": {},
     "output_type": "execute_result"
    }
   ],
   "source": [
    "np.maximum( x, y)"
   ]
  },
  {
   "cell_type": "code",
   "execution_count": 183,
   "id": "f8a01595-87a8-4ca9-8a31-26008882a8dd",
   "metadata": {},
   "outputs": [],
   "source": [
    "arr = rng.standard_normal(7) * 5"
   ]
  },
  {
   "cell_type": "code",
   "execution_count": 184,
   "id": "13f5e382-a0e9-432e-a8ba-c1109b3b8eda",
   "metadata": {},
   "outputs": [
    {
     "data": {
      "text/plain": [
       "array([ 4.51459671, -8.10791367, -0.7909463 ,  2.24741966, -6.71800536,\n",
       "       -0.40843795,  8.62369966])"
      ]
     },
     "execution_count": 184,
     "metadata": {},
     "output_type": "execute_result"
    }
   ],
   "source": [
    "arr"
   ]
  },
  {
   "cell_type": "code",
   "execution_count": 185,
   "id": "4e3aacb9-801b-4fbe-a888-b3dd19bd0ce1",
   "metadata": {},
   "outputs": [],
   "source": [
    "remainder, whole_part = np.modf(arr)"
   ]
  },
  {
   "cell_type": "code",
   "execution_count": 186,
   "id": "14bb1da8-1859-4fea-906a-506635c2dd0f",
   "metadata": {},
   "outputs": [
    {
     "data": {
      "text/plain": [
       "array([ 0.51459671, -0.10791367, -0.7909463 ,  0.24741966, -0.71800536,\n",
       "       -0.40843795,  0.62369966])"
      ]
     },
     "execution_count": 186,
     "metadata": {},
     "output_type": "execute_result"
    }
   ],
   "source": [
    "remainder"
   ]
  },
  {
   "cell_type": "code",
   "execution_count": 187,
   "id": "361fd6e3-1166-4f0a-acaa-17e2668f1684",
   "metadata": {},
   "outputs": [
    {
     "data": {
      "text/plain": [
       "array([ 4., -8., -0.,  2., -6., -0.,  8.])"
      ]
     },
     "execution_count": 187,
     "metadata": {},
     "output_type": "execute_result"
    }
   ],
   "source": [
    "whole_part"
   ]
  },
  {
   "cell_type": "code",
   "execution_count": 188,
   "id": "a87282dd-b353-46d3-a855-70b8238db2d2",
   "metadata": {},
   "outputs": [
    {
     "data": {
      "text/plain": [
       "array([ 4.51459671, -8.10791367, -0.7909463 ,  2.24741966, -6.71800536,\n",
       "       -0.40843795,  8.62369966])"
      ]
     },
     "execution_count": 188,
     "metadata": {},
     "output_type": "execute_result"
    }
   ],
   "source": [
    "arr"
   ]
  },
  {
   "cell_type": "code",
   "execution_count": 190,
   "id": "93b2e80d-5c8e-4879-a6a5-e7b0fc2fc06a",
   "metadata": {},
   "outputs": [],
   "source": [
    "out = np.zeros_like(arr)"
   ]
  },
  {
   "cell_type": "code",
   "execution_count": 191,
   "id": "a1fc4ff0-3864-49b1-8219-09225afef817",
   "metadata": {},
   "outputs": [
    {
     "data": {
      "text/plain": [
       "array([ 5.51459671, -7.10791367,  0.2090537 ,  3.24741966, -5.71800536,\n",
       "        0.59156205,  9.62369966])"
      ]
     },
     "execution_count": 191,
     "metadata": {},
     "output_type": "execute_result"
    }
   ],
   "source": [
    "np.add(arr, 1)"
   ]
  },
  {
   "cell_type": "code",
   "execution_count": 192,
   "id": "79a14710-7ed1-4182-8fbb-11410f1dd26d",
   "metadata": {},
   "outputs": [
    {
     "data": {
      "text/plain": [
       "array([ 5.51459671, -7.10791367,  0.2090537 ,  3.24741966, -5.71800536,\n",
       "        0.59156205,  9.62369966])"
      ]
     },
     "execution_count": 192,
     "metadata": {},
     "output_type": "execute_result"
    }
   ],
   "source": [
    "np.add(arr, 1, out=out)"
   ]
  },
  {
   "cell_type": "code",
   "execution_count": 193,
   "id": "42e4edc4-b9ec-44b7-963f-ebf1edfa2882",
   "metadata": {},
   "outputs": [
    {
     "data": {
      "text/plain": [
       "array([ 5.51459671, -7.10791367,  0.2090537 ,  3.24741966, -5.71800536,\n",
       "        0.59156205,  9.62369966])"
      ]
     },
     "execution_count": 193,
     "metadata": {},
     "output_type": "execute_result"
    }
   ],
   "source": [
    "out"
   ]
  },
  {
   "cell_type": "code",
   "execution_count": 194,
   "id": "88b632b6-57e4-4064-9e78-f80c55c38487",
   "metadata": {},
   "outputs": [],
   "source": [
    "#4.4 Array-Oriented Programming with Arrays"
   ]
  },
  {
   "cell_type": "code",
   "execution_count": 195,
   "id": "8495db13-9b11-47f8-9eaa-bd08dd0548cb",
   "metadata": {},
   "outputs": [],
   "source": [
    "points = np.arange(-5, 5, 0.01) # 100 equally spaced points"
   ]
  },
  {
   "cell_type": "code",
   "execution_count": 196,
   "id": "dbb78d37-dc7b-437d-a411-b550dcf16dd9",
   "metadata": {},
   "outputs": [],
   "source": [
    "xs, ys = np.meshgrid(points, points)"
   ]
  },
  {
   "cell_type": "code",
   "execution_count": 197,
   "id": "d8f059ef-9067-4dc4-b6d9-787b0ad3f955",
   "metadata": {},
   "outputs": [
    {
     "data": {
      "text/plain": [
       "array([[-5.  , -5.  , -5.  , ..., -5.  , -5.  , -5.  ],\n",
       "       [-4.99, -4.99, -4.99, ..., -4.99, -4.99, -4.99],\n",
       "       [-4.98, -4.98, -4.98, ..., -4.98, -4.98, -4.98],\n",
       "       ...,\n",
       "       [ 4.97,  4.97,  4.97, ...,  4.97,  4.97,  4.97],\n",
       "       [ 4.98,  4.98,  4.98, ...,  4.98,  4.98,  4.98],\n",
       "       [ 4.99,  4.99,  4.99, ...,  4.99,  4.99,  4.99]])"
      ]
     },
     "execution_count": 197,
     "metadata": {},
     "output_type": "execute_result"
    }
   ],
   "source": [
    "ys"
   ]
  },
  {
   "cell_type": "code",
   "execution_count": 198,
   "id": "6e5e65a4-ed6f-4b23-add7-4c9f16d53ced",
   "metadata": {},
   "outputs": [],
   "source": [
    "z = np.sqrt(xs ** 2 + ys ** 2)"
   ]
  },
  {
   "cell_type": "code",
   "execution_count": 199,
   "id": "4caa1cc1-882a-450f-a34d-d834d7c72e9a",
   "metadata": {},
   "outputs": [
    {
     "data": {
      "text/plain": [
       "array([[7.07106781, 7.06400028, 7.05693985, ..., 7.04988652, 7.05693985,\n",
       "        7.06400028],\n",
       "       [7.06400028, 7.05692568, 7.04985815, ..., 7.04279774, 7.04985815,\n",
       "        7.05692568],\n",
       "       [7.05693985, 7.04985815, 7.04278354, ..., 7.03571603, 7.04278354,\n",
       "        7.04985815],\n",
       "       ...,\n",
       "       [7.04988652, 7.04279774, 7.03571603, ..., 7.0286414 , 7.03571603,\n",
       "        7.04279774],\n",
       "       [7.05693985, 7.04985815, 7.04278354, ..., 7.03571603, 7.04278354,\n",
       "        7.04985815],\n",
       "       [7.06400028, 7.05692568, 7.04985815, ..., 7.04279774, 7.04985815,\n",
       "        7.05692568]])"
      ]
     },
     "execution_count": 199,
     "metadata": {},
     "output_type": "execute_result"
    }
   ],
   "source": [
    "z"
   ]
  },
  {
   "cell_type": "code",
   "execution_count": 213,
   "id": "85071da7-e4e3-4aaa-b63b-eeebc2157272",
   "metadata": {},
   "outputs": [],
   "source": [
    "import matplotlib.pyplot as plt"
   ]
  },
  {
   "cell_type": "code",
   "execution_count": 214,
   "id": "b05f22c7-b4ac-4b29-9734-bfd3a1d49e47",
   "metadata": {},
   "outputs": [
    {
     "data": {
      "text/plain": [
       "<matplotlib.image.AxesImage at 0x1302e48c0>"
      ]
     },
     "execution_count": 214,
     "metadata": {},
     "output_type": "execute_result"
    },
    {
     "data": {
      "image/png": "[encoded data removed]",
      "text/plain": [
       "<Figure size 640x480 with 1 Axes>"
      ]
     },
     "metadata": {},
     "output_type": "display_data"
    }
   ],
   "source": [
    "plt.imshow(z, cmap=plt.cm.gray, extent=[-5, 5, -5, 5])"
   ]
  },
  {
   "cell_type": "code",
   "execution_count": 215,
   "id": "051ef6ee-e2d7-4a5f-b0c3-d47997fefc5a",
   "metadata": {},
   "outputs": [
    {
     "ename": "RuntimeError",
     "evalue": "No mappable was found to use for colorbar creation. First define a mappable such as an image (with imshow) or a contour set (with contourf).",
     "output_type": "error",
     "traceback": [
      "\u001b[0;31m---------------------------------------------------------------------------\u001b[0m",
      "\u001b[0;31mRuntimeError\u001b[0m                              Traceback (most recent call last)",
      "Cell \u001b[0;32mIn[215], line 1\u001b[0m\n\u001b[0;32m----> 1\u001b[0m \u001b[43mplt\u001b[49m\u001b[38;5;241;43m.\u001b[39;49m\u001b[43mcolorbar\u001b[49m\u001b[43m(\u001b[49m\u001b[43m)\u001b[49m\n",
      "File \u001b[0;32m~/Library/jupyterlab-desktop/jlab_server/lib/python3.12/site-packages/matplotlib/pyplot.py:2512\u001b[0m, in \u001b[0;36mcolorbar\u001b[0;34m(mappable, cax, ax, **kwargs)\u001b[0m\n\u001b[1;32m   2510\u001b[0m     mappable \u001b[38;5;241m=\u001b[39m gci()\n\u001b[1;32m   2511\u001b[0m     \u001b[38;5;28;01mif\u001b[39;00m mappable \u001b[38;5;129;01mis\u001b[39;00m \u001b[38;5;28;01mNone\u001b[39;00m:\n\u001b[0;32m-> 2512\u001b[0m         \u001b[38;5;28;01mraise\u001b[39;00m \u001b[38;5;167;01mRuntimeError\u001b[39;00m(\u001b[38;5;124m'\u001b[39m\u001b[38;5;124mNo mappable was found to use for colorbar \u001b[39m\u001b[38;5;124m'\u001b[39m\n\u001b[1;32m   2513\u001b[0m                            \u001b[38;5;124m'\u001b[39m\u001b[38;5;124mcreation. First define a mappable such as \u001b[39m\u001b[38;5;124m'\u001b[39m\n\u001b[1;32m   2514\u001b[0m                            \u001b[38;5;124m'\u001b[39m\u001b[38;5;124man image (with imshow) or a contour set (\u001b[39m\u001b[38;5;124m'\u001b[39m\n\u001b[1;32m   2515\u001b[0m                            \u001b[38;5;124m'\u001b[39m\u001b[38;5;124mwith contourf).\u001b[39m\u001b[38;5;124m'\u001b[39m)\n\u001b[1;32m   2516\u001b[0m ret \u001b[38;5;241m=\u001b[39m gcf()\u001b[38;5;241m.\u001b[39mcolorbar(mappable, cax\u001b[38;5;241m=\u001b[39mcax, ax\u001b[38;5;241m=\u001b[39max, \u001b[38;5;241m*\u001b[39m\u001b[38;5;241m*\u001b[39mkwargs)\n\u001b[1;32m   2517\u001b[0m \u001b[38;5;28;01mreturn\u001b[39;00m ret\n",
      "\u001b[0;31mRuntimeError\u001b[0m: No mappable was found to use for colorbar creation. First define a mappable such as an image (with imshow) or a contour set (with contourf)."
     ]
    },
    {
     "data": {
      "text/plain": [
       "<Figure size 640x480 with 0 Axes>"
      ]
     },
     "metadata": {},
     "output_type": "display_data"
    }
   ],
   "source": [
    "plt.colorbar()"
   ]
  },
  {
   "cell_type": "code",
   "execution_count": 216,
   "id": "4eeb2f19-706c-4bec-939b-8debf745dd03",
   "metadata": {},
   "outputs": [
    {
     "name": "stderr",
     "output_type": "stream",
     "text": [
      "<>:1: SyntaxWarning: invalid escape sequence '\\s'\n",
      "<>:1: SyntaxWarning: invalid escape sequence '\\s'\n",
      "/var/folders/wb/8wsxvd891919zfypc_lw4yqr0000gp/T/ipykernel_7121/3763670414.py:1: SyntaxWarning: invalid escape sequence '\\s'\n",
      "  plt.title(\"Image plot of $\\sqrt{x^2 + y^2}$ for a grid of values\")\n"
     ]
    },
    {
     "data": {
      "text/plain": [
       "Text(0.5, 1.0, 'Image plot of $\\\\sqrt{x^2 + y^2}$ for a grid of values')"
      ]
     },
     "execution_count": 216,
     "metadata": {},
     "output_type": "execute_result"
    },
    {
     "data": {
      "image/png": "[encoded data removed]",
      "text/plain": [
       "<Figure size 640x480 with 1 Axes>"
      ]
     },
     "metadata": {},
     "output_type": "display_data"
    }
   ],
   "source": [
    "plt.title(\"Image plot of $\\sqrt{x^2 + y^2}$ for a grid of values\")"
   ]
  },
  {
   "cell_type": "code",
   "execution_count": 217,
   "id": "7f64986c-9696-4474-aca6-193f2a81c17e",
   "metadata": {},
   "outputs": [],
   "source": [
    "plt.close(\"all\")"
   ]
  },
  {
   "cell_type": "code",
   "execution_count": 218,
   "id": "8a083ce9-4db8-4bac-9d71-df5e3f82987e",
   "metadata": {},
   "outputs": [],
   "source": [
    "#Expressing Conditional Logic as Array Operations"
   ]
  },
  {
   "cell_type": "code",
   "execution_count": 219,
   "id": "9332476f-4610-4a93-8a7c-0f450524959c",
   "metadata": {},
   "outputs": [],
   "source": [
    "xarr = np.array([1.1, 1.2, 1.3, 1.4, 1.5])"
   ]
  },
  {
   "cell_type": "code",
   "execution_count": 220,
   "id": "f139824f-ed01-42cd-8bf8-a92705053069",
   "metadata": {},
   "outputs": [],
   "source": [
    "yarr = np.array([2.1, 2.2, 2.3, 2.4, 2.5])"
   ]
  },
  {
   "cell_type": "code",
   "execution_count": 221,
   "id": "435f8ba9-85c2-4c89-9b57-484f0a72d8ec",
   "metadata": {},
   "outputs": [],
   "source": [
    "cond = np.array([True, False, True, True, False])"
   ]
  },
  {
   "cell_type": "code",
   "execution_count": 222,
   "id": "a1f5ea9a-6ac4-40de-aace-6130d54191e9",
   "metadata": {},
   "outputs": [],
   "source": [
    "result = [(x if c else y)for x, y, c in zip(xarr, yarr, cond)]"
   ]
  },
  {
   "cell_type": "code",
   "execution_count": 223,
   "id": "c25e0910-86ff-4883-a3e7-b9401451b821",
   "metadata": {},
   "outputs": [
    {
     "data": {
      "text/plain": [
       "[np.float64(1.1),\n",
       " np.float64(2.2),\n",
       " np.float64(1.3),\n",
       " np.float64(1.4),\n",
       " np.float64(2.5)]"
      ]
     },
     "execution_count": 223,
     "metadata": {},
     "output_type": "execute_result"
    }
   ],
   "source": [
    "result"
   ]
  },
  {
   "cell_type": "code",
   "execution_count": 224,
   "id": "02d259ca-6924-4293-9fa0-6caaf9474f78",
   "metadata": {},
   "outputs": [],
   "source": [
    "result = np.where(cond, xarr, yarr)"
   ]
  },
  {
   "cell_type": "code",
   "execution_count": 225,
   "id": "501ad0db-1a2e-4bb5-9602-8fda6e1e5051",
   "metadata": {},
   "outputs": [
    {
     "data": {
      "text/plain": [
       "array([1.1, 2.2, 1.3, 1.4, 2.5])"
      ]
     },
     "execution_count": 225,
     "metadata": {},
     "output_type": "execute_result"
    }
   ],
   "source": [
    "result"
   ]
  },
  {
   "cell_type": "code",
   "execution_count": 226,
   "id": "3a8d09dd-30e1-4f05-8252-9ae44a0a6287",
   "metadata": {},
   "outputs": [],
   "source": [
    "arr = rng.standard_normal((4, 4))"
   ]
  },
  {
   "cell_type": "code",
   "execution_count": 227,
   "id": "6e52df9f-ed71-40b0-a9d1-c7efc71c185d",
   "metadata": {},
   "outputs": [
    {
     "data": {
      "text/plain": [
       "array([[ 2.61815943,  0.77736134,  0.8286332 , -0.95898831],\n",
       "       [-1.20938829, -1.41229201,  0.54154683,  0.7519394 ],\n",
       "       [-0.65876032, -1.22867499,  0.25755777,  0.31290292],\n",
       "       [-0.13081169,  1.26998312, -0.09296246, -0.06615089]])"
      ]
     },
     "execution_count": 227,
     "metadata": {},
     "output_type": "execute_result"
    }
   ],
   "source": [
    "arr"
   ]
  },
  {
   "cell_type": "code",
   "execution_count": 228,
   "id": "4211d62f-a1a4-420d-a28b-684c46e9a06f",
   "metadata": {},
   "outputs": [
    {
     "data": {
      "text/plain": [
       "array([[ True,  True,  True, False],\n",
       "       [False, False,  True,  True],\n",
       "       [False, False,  True,  True],\n",
       "       [False,  True, False, False]])"
      ]
     },
     "execution_count": 228,
     "metadata": {},
     "output_type": "execute_result"
    }
   ],
   "source": [
    "arr > 0"
   ]
  },
  {
   "cell_type": "code",
   "execution_count": 229,
   "id": "64e9e3b1-b45f-4c90-8b40-414e990851a7",
   "metadata": {},
   "outputs": [
    {
     "data": {
      "text/plain": [
       "array([[ 2,  2,  2, -2],\n",
       "       [-2, -2,  2,  2],\n",
       "       [-2, -2,  2,  2],\n",
       "       [-2,  2, -2, -2]])"
      ]
     },
     "execution_count": 229,
     "metadata": {},
     "output_type": "execute_result"
    }
   ],
   "source": [
    "np.where(arr > 0, 2, -2)"
   ]
  },
  {
   "cell_type": "code",
   "execution_count": 230,
   "id": "72566322-d38d-4bdf-b8a2-b581dfcbd0ae",
   "metadata": {},
   "outputs": [
    {
     "data": {
      "text/plain": [
       "array([[ 2.        ,  2.        ,  2.        , -0.95898831],\n",
       "       [-1.20938829, -1.41229201,  2.        ,  2.        ],\n",
       "       [-0.65876032, -1.22867499,  2.        ,  2.        ],\n",
       "       [-0.13081169,  2.        , -0.09296246, -0.06615089]])"
      ]
     },
     "execution_count": 230,
     "metadata": {},
     "output_type": "execute_result"
    }
   ],
   "source": [
    "np.where(arr > 0, 2, arr) # set only positive values to 2"
   ]
  },
  {
   "cell_type": "code",
   "execution_count": 231,
   "id": "c4d9c2cd-b18c-484a-adaa-8a4167e69c49",
   "metadata": {},
   "outputs": [],
   "source": [
    "#Mathematical and Statistical Methods"
   ]
  },
  {
   "cell_type": "code",
   "execution_count": 232,
   "id": "8e28e9e1-c874-4ea6-a9ba-06a21df7c4f6",
   "metadata": {},
   "outputs": [],
   "source": [
    "arr = rng.standard_normal((5, 4))"
   ]
  },
  {
   "cell_type": "code",
   "execution_count": 233,
   "id": "a7b2b7a6-fb25-47f1-b3e4-921b49dca5fa",
   "metadata": {},
   "outputs": [
    {
     "data": {
      "text/plain": [
       "array([[-1.10821447,  0.13595685,  1.34707776,  0.06114402],\n",
       "       [ 0.0709146 ,  0.43365454,  0.27748366,  0.53025239],\n",
       "       [ 0.53672097,  0.61835001, -0.79501746,  0.30003095],\n",
       "       [-1.60270159,  0.26679883, -1.26162378, -0.07127081],\n",
       "       [ 0.47404973, -0.41485376,  0.0977165 , -1.64041784]])"
      ]
     },
     "execution_count": 233,
     "metadata": {},
     "output_type": "execute_result"
    }
   ],
   "source": [
    "arr"
   ]
  },
  {
   "cell_type": "code",
   "execution_count": 234,
   "id": "c73e3953-220e-42d3-b169-93f04c31dde6",
   "metadata": {},
   "outputs": [
    {
     "data": {
      "text/plain": [
       "np.float64(-0.08719744457434529)"
      ]
     },
     "execution_count": 234,
     "metadata": {},
     "output_type": "execute_result"
    }
   ],
   "source": [
    "arr.mean()"
   ]
  },
  {
   "cell_type": "code",
   "execution_count": 235,
   "id": "2f63ae4d-8373-4293-9e58-c20623b98c94",
   "metadata": {},
   "outputs": [
    {
     "data": {
      "text/plain": [
       "np.float64(-0.08719744457434529)"
      ]
     },
     "execution_count": 235,
     "metadata": {},
     "output_type": "execute_result"
    }
   ],
   "source": [
    "np.mean(arr)"
   ]
  },
  {
   "cell_type": "code",
   "execution_count": 236,
   "id": "fd60239b-50eb-4827-aad7-ab8cad24be8b",
   "metadata": {},
   "outputs": [
    {
     "data": {
      "text/plain": [
       "np.float64(-1.743948891486906)"
      ]
     },
     "execution_count": 236,
     "metadata": {},
     "output_type": "execute_result"
    }
   ],
   "source": [
    "arr.sum()"
   ]
  },
  {
   "cell_type": "code",
   "execution_count": 237,
   "id": "563927ca-9db4-4cb0-8b15-aea91f403352",
   "metadata": {},
   "outputs": [
    {
     "data": {
      "text/plain": [
       "array([ 0.10899104,  0.3280763 ,  0.16502112, -0.66719934, -0.37087634])"
      ]
     },
     "execution_count": 237,
     "metadata": {},
     "output_type": "execute_result"
    }
   ],
   "source": [
    "arr.mean(axis=1)"
   ]
  },
  {
   "cell_type": "code",
   "execution_count": 238,
   "id": "0778dcff-efe6-45bc-b2f0-09974fb8d427",
   "metadata": {},
   "outputs": [
    {
     "data": {
      "text/plain": [
       "array([-1.62923076,  1.03990647, -0.33436331, -0.82026129])"
      ]
     },
     "execution_count": 238,
     "metadata": {},
     "output_type": "execute_result"
    }
   ],
   "source": [
    "arr.sum(axis=0)"
   ]
  },
  {
   "cell_type": "code",
   "execution_count": 239,
   "id": "c9f6a414-1a0a-4e32-a69b-989a8b903daf",
   "metadata": {},
   "outputs": [],
   "source": [
    "arr = np.array([0, 1, 2, 3, 4, 5, 6, 7])"
   ]
  },
  {
   "cell_type": "code",
   "execution_count": 240,
   "id": "353e97d3-525d-4254-b3bd-248c3f0b5def",
   "metadata": {},
   "outputs": [
    {
     "data": {
      "text/plain": [
       "array([ 0,  1,  3,  6, 10, 15, 21, 28])"
      ]
     },
     "execution_count": 240,
     "metadata": {},
     "output_type": "execute_result"
    }
   ],
   "source": [
    "arr.cumsum()"
   ]
  },
  {
   "cell_type": "code",
   "execution_count": 241,
   "id": "6a040c05-84c8-4ca3-ad7a-6ddf787ddd69",
   "metadata": {},
   "outputs": [],
   "source": [
    "arr = np.array([[0, 1, 2], [3, 4, 5], [6, 7, 8]])"
   ]
  },
  {
   "cell_type": "code",
   "execution_count": 242,
   "id": "dd1783f9-6315-46a6-a5de-19e14cf458e4",
   "metadata": {},
   "outputs": [
    {
     "data": {
      "text/plain": [
       "array([[0, 1, 2],\n",
       "       [3, 4, 5],\n",
       "       [6, 7, 8]])"
      ]
     },
     "execution_count": 242,
     "metadata": {},
     "output_type": "execute_result"
    }
   ],
   "source": [
    "arr"
   ]
  },
  {
   "cell_type": "code",
   "execution_count": 243,
   "id": "fcd09f90-498e-4689-8a82-afd748933a02",
   "metadata": {},
   "outputs": [
    {
     "data": {
      "text/plain": [
       "array([[ 0,  1,  2],\n",
       "       [ 3,  5,  7],\n",
       "       [ 9, 12, 15]])"
      ]
     },
     "execution_count": 243,
     "metadata": {},
     "output_type": "execute_result"
    }
   ],
   "source": [
    "arr.cumsum(axis=0)"
   ]
  },
  {
   "cell_type": "code",
   "execution_count": 244,
   "id": "33311919-76c9-4404-8d9f-6b14abda00fa",
   "metadata": {},
   "outputs": [
    {
     "data": {
      "text/plain": [
       "array([[ 0,  1,  3],\n",
       "       [ 3,  7, 12],\n",
       "       [ 6, 13, 21]])"
      ]
     },
     "execution_count": 244,
     "metadata": {},
     "output_type": "execute_result"
    }
   ],
   "source": [
    "arr.cumsum(axis=1)"
   ]
  },
  {
   "cell_type": "code",
   "execution_count": 245,
   "id": "f95f3938-d85f-428e-9344-cc5922b3c241",
   "metadata": {},
   "outputs": [],
   "source": [
    "#Methods for Boolean Arrays"
   ]
  },
  {
   "cell_type": "code",
   "execution_count": 246,
   "id": "98136782-b595-4215-b29b-f11bba4ddc2d",
   "metadata": {},
   "outputs": [],
   "source": [
    "arr = rng.standard_normal(100)"
   ]
  },
  {
   "cell_type": "code",
   "execution_count": 247,
   "id": "7e92398d-0b9d-4c1b-871c-8ea8a4c02610",
   "metadata": {},
   "outputs": [
    {
     "data": {
      "text/plain": [
       "np.int64(48)"
      ]
     },
     "execution_count": 247,
     "metadata": {},
     "output_type": "execute_result"
    }
   ],
   "source": [
    "(arr > 0).sum() # Number of positive values"
   ]
  },
  {
   "cell_type": "code",
   "execution_count": 248,
   "id": "c89d005c-b81f-4e93-aea8-862647c048b2",
   "metadata": {},
   "outputs": [
    {
     "data": {
      "text/plain": [
       "np.int64(52)"
      ]
     },
     "execution_count": 248,
     "metadata": {},
     "output_type": "execute_result"
    }
   ],
   "source": [
    "(arr <= 0).sum() # Number of non-positive values"
   ]
  },
  {
   "cell_type": "code",
   "execution_count": 249,
   "id": "46e0bb32-fa02-4cb1-a1b5-4acc32e9b4fc",
   "metadata": {},
   "outputs": [],
   "source": [
    "bools = np.array([False, False, True, False])"
   ]
  },
  {
   "cell_type": "code",
   "execution_count": 250,
   "id": "44d0d03a-f7ee-4c97-a5da-cb497b5bf798",
   "metadata": {},
   "outputs": [
    {
     "data": {
      "text/plain": [
       "np.True_"
      ]
     },
     "execution_count": 250,
     "metadata": {},
     "output_type": "execute_result"
    }
   ],
   "source": [
    "bools.any()"
   ]
  },
  {
   "cell_type": "code",
   "execution_count": 251,
   "id": "157e937c-ed84-4b2d-92cb-6161856d8f8b",
   "metadata": {},
   "outputs": [
    {
     "data": {
      "text/plain": [
       "np.False_"
      ]
     },
     "execution_count": 251,
     "metadata": {},
     "output_type": "execute_result"
    }
   ],
   "source": [
    "bools.all()"
   ]
  },
  {
   "cell_type": "code",
   "execution_count": 252,
   "id": "4593813e-bbba-4eab-8c03-9b43cff312ec",
   "metadata": {},
   "outputs": [],
   "source": [
    "#Sorting"
   ]
  },
  {
   "cell_type": "code",
   "execution_count": 253,
   "id": "cb3bfbc4-77e1-4a6f-99cb-dd0b72674308",
   "metadata": {},
   "outputs": [],
   "source": [
    "arr = rng.standard_normal(6)"
   ]
  },
  {
   "cell_type": "code",
   "execution_count": 254,
   "id": "435eb585-59e4-4240-a4e2-446c018a6616",
   "metadata": {},
   "outputs": [
    {
     "data": {
      "text/plain": [
       "array([ 0.07726066, -0.68391322, -0.72083767,  1.12062282, -0.05481416,\n",
       "       -0.08241372])"
      ]
     },
     "execution_count": 254,
     "metadata": {},
     "output_type": "execute_result"
    }
   ],
   "source": [
    "arr"
   ]
  },
  {
   "cell_type": "code",
   "execution_count": 255,
   "id": "8fe95903-c06a-435d-83f0-46916d747d34",
   "metadata": {},
   "outputs": [],
   "source": [
    "arr.sort()"
   ]
  },
  {
   "cell_type": "code",
   "execution_count": 256,
   "id": "d209b174-af22-4e0d-9918-7b7c5b730ad9",
   "metadata": {},
   "outputs": [
    {
     "data": {
      "text/plain": [
       "array([-0.72083767, -0.68391322, -0.08241372, -0.05481416,  0.07726066,\n",
       "        1.12062282])"
      ]
     },
     "execution_count": 256,
     "metadata": {},
     "output_type": "execute_result"
    }
   ],
   "source": [
    "arr"
   ]
  },
  {
   "cell_type": "code",
   "execution_count": 257,
   "id": "a1c7c01c-9149-44d0-8a03-d48f2744f061",
   "metadata": {},
   "outputs": [],
   "source": [
    "arr = rng.standard_normal((5, 3))"
   ]
  },
  {
   "cell_type": "code",
   "execution_count": 258,
   "id": "3a1fc539-8891-4daf-96f4-8fa5cdaa329b",
   "metadata": {},
   "outputs": [
    {
     "data": {
      "text/plain": [
       "array([[ 0.9359865 ,  1.23853712,  1.27279553],\n",
       "       [ 0.40589222, -0.05032522,  0.28931754],\n",
       "       [ 0.17930568,  1.39748056,  0.29204679],\n",
       "       [ 0.63840567, -0.02788771,  1.37105185],\n",
       "       [-2.05280763,  0.38050908,  0.75539067]])"
      ]
     },
     "execution_count": 258,
     "metadata": {},
     "output_type": "execute_result"
    }
   ],
   "source": [
    "arr"
   ]
  },
  {
   "cell_type": "code",
   "execution_count": 259,
   "id": "5d10d661-75ba-412a-af0d-25b817671990",
   "metadata": {},
   "outputs": [],
   "source": [
    "arr.sort(axis=0)"
   ]
  },
  {
   "cell_type": "code",
   "execution_count": 260,
   "id": "f72cc319-615d-4ec0-87d3-6be58c475b31",
   "metadata": {},
   "outputs": [
    {
     "data": {
      "text/plain": [
       "array([[-2.05280763, -0.05032522,  0.28931754],\n",
       "       [ 0.17930568, -0.02788771,  0.29204679],\n",
       "       [ 0.40589222,  0.38050908,  0.75539067],\n",
       "       [ 0.63840567,  1.23853712,  1.27279553],\n",
       "       [ 0.9359865 ,  1.39748056,  1.37105185]])"
      ]
     },
     "execution_count": 260,
     "metadata": {},
     "output_type": "execute_result"
    }
   ],
   "source": [
    "arr"
   ]
  },
  {
   "cell_type": "code",
   "execution_count": 261,
   "id": "82089835-b07c-4ea3-81eb-c0c4bc16b471",
   "metadata": {},
   "outputs": [],
   "source": [
    "arr.sort(axis=1)"
   ]
  },
  {
   "cell_type": "code",
   "execution_count": 262,
   "id": "f7dba76e-0080-44cd-a49c-3c455a7ea160",
   "metadata": {},
   "outputs": [
    {
     "data": {
      "text/plain": [
       "array([[-2.05280763, -0.05032522,  0.28931754],\n",
       "       [-0.02788771,  0.17930568,  0.29204679],\n",
       "       [ 0.38050908,  0.40589222,  0.75539067],\n",
       "       [ 0.63840567,  1.23853712,  1.27279553],\n",
       "       [ 0.9359865 ,  1.37105185,  1.39748056]])"
      ]
     },
     "execution_count": 262,
     "metadata": {},
     "output_type": "execute_result"
    }
   ],
   "source": [
    "arr"
   ]
  },
  {
   "cell_type": "code",
   "execution_count": 263,
   "id": "ae8f6bc0-9679-4def-8dea-23663f4507a4",
   "metadata": {},
   "outputs": [],
   "source": [
    "arr2 = np.array([5, -10, 7, 1, 0, -3])"
   ]
  },
  {
   "cell_type": "code",
   "execution_count": 264,
   "id": "8f00f53a-c42f-4983-b997-5746f28aa808",
   "metadata": {},
   "outputs": [],
   "source": [
    "sorted_arr2 = np.sort(arr2)"
   ]
  },
  {
   "cell_type": "code",
   "execution_count": 265,
   "id": "415b88e9-dd44-4682-8c9b-555952c3e3a1",
   "metadata": {},
   "outputs": [
    {
     "data": {
      "text/plain": [
       "array([-10,  -3,   0,   1,   5,   7])"
      ]
     },
     "execution_count": 265,
     "metadata": {},
     "output_type": "execute_result"
    }
   ],
   "source": [
    "sorted_arr2"
   ]
  },
  {
   "cell_type": "code",
   "execution_count": 266,
   "id": "a022ff8a-fc65-4b19-980a-3fa4dfaade56",
   "metadata": {},
   "outputs": [],
   "source": [
    "#Unique and Other Set Logic"
   ]
  },
  {
   "cell_type": "code",
   "execution_count": 267,
   "id": "66125a6e-14f6-4031-b782-37a9f1f14996",
   "metadata": {},
   "outputs": [],
   "source": [
    "names = np.array([\"Bob\", \"Will\", \"Joe\", \"Bob\", \"Will\", \"Joe\", \"Joe\"])"
   ]
  },
  {
   "cell_type": "code",
   "execution_count": 268,
   "id": "df71daf2-e68e-46e9-9e07-80c3a381757b",
   "metadata": {},
   "outputs": [
    {
     "data": {
      "text/plain": [
       "array(['Bob', 'Joe', 'Will'], dtype='<U4')"
      ]
     },
     "execution_count": 268,
     "metadata": {},
     "output_type": "execute_result"
    }
   ],
   "source": [
    "np.unique(names)"
   ]
  },
  {
   "cell_type": "code",
   "execution_count": 269,
   "id": "812d42fd-49e7-4435-a3e6-165a870bb1c1",
   "metadata": {},
   "outputs": [],
   "source": [
    "ints = np.array([3, 3, 3, 2, 2, 1, 1, 4, 4])"
   ]
  },
  {
   "cell_type": "code",
   "execution_count": 270,
   "id": "75407eb4-d629-4ff8-8dbb-95c10d611f0b",
   "metadata": {},
   "outputs": [
    {
     "data": {
      "text/plain": [
       "array([1, 2, 3, 4])"
      ]
     },
     "execution_count": 270,
     "metadata": {},
     "output_type": "execute_result"
    }
   ],
   "source": [
    "np.unique(ints)"
   ]
  },
  {
   "cell_type": "code",
   "execution_count": 271,
   "id": "756039dc-6a0e-4154-9605-314588af336a",
   "metadata": {},
   "outputs": [
    {
     "data": {
      "text/plain": [
       "[np.str_('Bob'), np.str_('Joe'), np.str_('Will')]"
      ]
     },
     "execution_count": 271,
     "metadata": {},
     "output_type": "execute_result"
    }
   ],
   "source": [
    "sorted(set(names))"
   ]
  },
  {
   "cell_type": "code",
   "execution_count": 272,
   "id": "735d27eb-5e7c-4dac-9549-1767679f140e",
   "metadata": {},
   "outputs": [],
   "source": [
    "values = np.array([6, 0, 0, 3, 2, 5, 6])"
   ]
  },
  {
   "cell_type": "code",
   "execution_count": 276,
   "id": "2983f18b-c3ff-4243-8f1f-6f8ec06bbdda",
   "metadata": {},
   "outputs": [
    {
     "data": {
      "text/plain": [
       "array([ True, False, False,  True,  True, False,  True])"
      ]
     },
     "execution_count": 276,
     "metadata": {},
     "output_type": "execute_result"
    }
   ],
   "source": [
    "np.isin(values, [2, 3, 6])"
   ]
  },
  {
   "cell_type": "code",
   "execution_count": 277,
   "id": "50726c5d-14fb-40d0-885e-fab8b9199a3b",
   "metadata": {},
   "outputs": [],
   "source": [
    "#4.5 File Input and Output with Arrays"
   ]
  },
  {
   "cell_type": "code",
   "execution_count": 278,
   "id": "5434e14b-4080-4073-a309-2119736169b0",
   "metadata": {},
   "outputs": [],
   "source": [
    "arr = np.arange(10)"
   ]
  },
  {
   "cell_type": "code",
   "execution_count": 279,
   "id": "df9055ba-592f-45ae-a819-9e1082681e15",
   "metadata": {},
   "outputs": [],
   "source": [
    "np.save(\"some_array\", arr)"
   ]
  },
  {
   "cell_type": "code",
   "execution_count": 280,
   "id": "fdeeba2b-74de-4300-8830-e26c8bd3bfbf",
   "metadata": {},
   "outputs": [
    {
     "data": {
      "text/plain": [
       "array([0, 1, 2, 3, 4, 5, 6, 7, 8, 9])"
      ]
     },
     "execution_count": 280,
     "metadata": {},
     "output_type": "execute_result"
    }
   ],
   "source": [
    "np.load(\"some_array.npy\")"
   ]
  },
  {
   "cell_type": "code",
   "execution_count": 281,
   "id": "6a8507b7-e508-4bf8-b1c0-42f6a4723bd2",
   "metadata": {},
   "outputs": [],
   "source": [
    "np.savez(\"array_archive.npz\", a=arr, b=arr)"
   ]
  },
  {
   "cell_type": "code",
   "execution_count": 282,
   "id": "365c136c-7d18-4c52-b688-15c6ff47d430",
   "metadata": {},
   "outputs": [],
   "source": [
    "arch = np.load(\"array_archive.npz\")"
   ]
  },
  {
   "cell_type": "code",
   "execution_count": 283,
   "id": "f4ee7373-8bc6-4110-94f8-40c5ecdaafda",
   "metadata": {},
   "outputs": [
    {
     "data": {
      "text/plain": [
       "array([0, 1, 2, 3, 4, 5, 6, 7, 8, 9])"
      ]
     },
     "execution_count": 283,
     "metadata": {},
     "output_type": "execute_result"
    }
   ],
   "source": [
    "arch[\"b\"]"
   ]
  },
  {
   "cell_type": "code",
   "execution_count": 284,
   "id": "de947864-d537-4a6c-91ea-bfd087429ece",
   "metadata": {},
   "outputs": [],
   "source": [
    "np.savez_compressed(\"arrays_compressed.npz\", a=arr, b=arr)"
   ]
  },
  {
   "cell_type": "code",
   "execution_count": 285,
   "id": "419f863b-3c40-4e4b-86cd-d8ddd3f553d9",
   "metadata": {},
   "outputs": [],
   "source": [
    "#4.6 Linear Algebra"
   ]
  },
  {
   "cell_type": "code",
   "execution_count": 286,
   "id": "41d75fe9-1230-43f5-9727-113874d2c293",
   "metadata": {},
   "outputs": [],
   "source": [
    "x = np.array([[1., 2., 3.], [4., 5., 6.]])"
   ]
  },
  {
   "cell_type": "code",
   "execution_count": 287,
   "id": "151794d7-0b46-4090-95ab-03974a13f208",
   "metadata": {},
   "outputs": [],
   "source": [
    "y = np.array([[6., 23.], [-1, 7], [8, 9]])"
   ]
  },
  {
   "cell_type": "code",
   "execution_count": 288,
   "id": "c30e1ade-116d-4adf-b826-f450c02378d1",
   "metadata": {},
   "outputs": [
    {
     "data": {
      "text/plain": [
       "array([[1., 2., 3.],\n",
       "       [4., 5., 6.]])"
      ]
     },
     "execution_count": 288,
     "metadata": {},
     "output_type": "execute_result"
    }
   ],
   "source": [
    "x"
   ]
  },
  {
   "cell_type": "code",
   "execution_count": 289,
   "id": "0becaf75-e6aa-4504-8061-63c22a66d1b4",
   "metadata": {},
   "outputs": [
    {
     "data": {
      "text/plain": [
       "array([[ 6., 23.],\n",
       "       [-1.,  7.],\n",
       "       [ 8.,  9.]])"
      ]
     },
     "execution_count": 289,
     "metadata": {},
     "output_type": "execute_result"
    }
   ],
   "source": [
    "y"
   ]
  },
  {
   "cell_type": "code",
   "execution_count": 290,
   "id": "d14f2727-e7b3-49cb-b6b9-07e98b96910b",
   "metadata": {},
   "outputs": [
    {
     "data": {
      "text/plain": [
       "array([[ 28.,  64.],\n",
       "       [ 67., 181.]])"
      ]
     },
     "execution_count": 290,
     "metadata": {},
     "output_type": "execute_result"
    }
   ],
   "source": [
    "x.dot(y)"
   ]
  },
  {
   "cell_type": "code",
   "execution_count": 291,
   "id": "903d23b2-3fac-47e7-bd48-753efac4ca43",
   "metadata": {},
   "outputs": [
    {
     "data": {
      "text/plain": [
       "array([[ 28.,  64.],\n",
       "       [ 67., 181.]])"
      ]
     },
     "execution_count": 291,
     "metadata": {},
     "output_type": "execute_result"
    }
   ],
   "source": [
    "np.dot(x, y)"
   ]
  },
  {
   "cell_type": "code",
   "execution_count": 292,
   "id": "e06d7907-834f-4e1a-8cf1-eb7c4a70190c",
   "metadata": {},
   "outputs": [
    {
     "data": {
      "text/plain": [
       "array([ 6., 15.])"
      ]
     },
     "execution_count": 292,
     "metadata": {},
     "output_type": "execute_result"
    }
   ],
   "source": [
    "x @ np.ones(3)"
   ]
  },
  {
   "cell_type": "code",
   "execution_count": 293,
   "id": "c314b542-e939-4abc-8299-c8b202dc46f3",
   "metadata": {},
   "outputs": [],
   "source": [
    "from numpy.linalg import inv, qr"
   ]
  },
  {
   "cell_type": "code",
   "execution_count": 294,
   "id": "2620eeeb-bcb8-4c05-b564-ba3125accf51",
   "metadata": {},
   "outputs": [],
   "source": [
    "X = rng.standard_normal((5, 5))"
   ]
  },
  {
   "cell_type": "code",
   "execution_count": 295,
   "id": "3d600936-3c5f-4499-acc6-f0baaf9032a7",
   "metadata": {},
   "outputs": [],
   "source": [
    "mat = X.T @ X"
   ]
  },
  {
   "cell_type": "code",
   "execution_count": 296,
   "id": "7ebebdd1-aa4e-4fb7-a30f-b35517468b5c",
   "metadata": {},
   "outputs": [
    {
     "data": {
      "text/plain": [
       "array([[  3.49932285,   2.84436268,   3.59557002, -16.55376878,\n",
       "          4.47325573],\n",
       "       [  2.84436268,   2.56666253,   2.9001963 , -13.57742   ,\n",
       "          3.76776505],\n",
       "       [  3.59557002,   2.9001963 ,   4.48232906, -18.34525499,\n",
       "          4.70660032],\n",
       "       [-16.55376878, -13.57742   , -18.34525499,  84.01018808,\n",
       "        -22.04840478],\n",
       "       [  4.47325573,   3.76776505,   4.70660032, -22.04840478,\n",
       "          6.05251342]])"
      ]
     },
     "execution_count": 296,
     "metadata": {},
     "output_type": "execute_result"
    }
   ],
   "source": [
    "inv(mat)"
   ]
  },
  {
   "cell_type": "code",
   "execution_count": 297,
   "id": "f52fcb74-eecc-4af5-a352-e5e490d1281b",
   "metadata": {},
   "outputs": [
    {
     "data": {
      "text/plain": [
       "array([[ 1.00000000e+00, -6.25319290e-15, -2.37192009e-15,\n",
       "         2.41409771e-14,  2.53582320e-15],\n",
       "       [-3.93094646e-16,  1.00000000e+00,  5.65687572e-16,\n",
       "        -4.27305921e-15, -2.80214543e-15],\n",
       "       [ 1.27212199e-15,  1.27605035e-15,  1.00000000e+00,\n",
       "        -4.44354137e-15,  2.13410382e-15],\n",
       "       [ 2.26158923e-16,  1.16742225e-15,  7.12533627e-16,\n",
       "         1.00000000e+00,  7.87749988e-16],\n",
       "       [-5.36664615e-15,  9.52819245e-16, -1.64872874e-15,\n",
       "         1.74148118e-14,  1.00000000e+00]])"
      ]
     },
     "execution_count": 297,
     "metadata": {},
     "output_type": "execute_result"
    }
   ],
   "source": [
    "mat @ inv(mat)"
   ]
  },
  {
   "cell_type": "code",
   "execution_count": 298,
   "id": "7b110c0f-8396-4b3a-b321-53d31772645e",
   "metadata": {},
   "outputs": [],
   "source": [
    "#4.7 Example: Random Walks"
   ]
  },
  {
   "cell_type": "code",
   "execution_count": 299,
   "id": "758cf836-fb46-431d-a4dd-05dfeabc8f71",
   "metadata": {},
   "outputs": [],
   "source": [
    "#! blockstart\n",
    "import random\n",
    "position = 0\n",
    "walk = [position]\n",
    "nsteps = 1000\n",
    "for _ in range(nsteps):\n",
    "    step = 1 if random.randint(0, 1) else -1\n",
    "    position += step\n",
    "    walk.append(position)\n",
    "#! blockend"
   ]
  },
  {
   "cell_type": "code",
   "execution_count": 300,
   "id": "c1a2cc2b-1175-4d40-a2a8-52c31f4cf80c",
   "metadata": {},
   "outputs": [
    {
     "data": {
      "text/plain": [
       "[<matplotlib.lines.Line2D at 0x1302e57c0>]"
      ]
     },
     "execution_count": 300,
     "metadata": {},
     "output_type": "execute_result"
    },
    {
     "data": {
      "image/png": "[encoded data removed]",
      "text/plain": [
       "<Figure size 640x480 with 1 Axes>"
      ]
     },
     "metadata": {},
     "output_type": "display_data"
    }
   ],
   "source": [
    "plt.plot(walk[:100])"
   ]
  },
  {
   "cell_type": "code",
   "execution_count": 301,
   "id": "7900dc28-266d-4f78-a9c8-6af33ab12a66",
   "metadata": {},
   "outputs": [],
   "source": [
    "nsteps = 1000"
   ]
  },
  {
   "cell_type": "code",
   "execution_count": 302,
   "id": "ad8fecb2-db42-44c0-95ee-7bf99fbe1cd5",
   "metadata": {},
   "outputs": [],
   "source": [
    "rng = np.random.default_rng(seed=12345)  # fresh random generator"
   ]
  },
  {
   "cell_type": "code",
   "execution_count": 303,
   "id": "a2abc275-73f5-4ee2-a808-105785f39cf3",
   "metadata": {},
   "outputs": [],
   "source": [
    "draws = rng.integers(0, 2, size=nsteps)"
   ]
  },
  {
   "cell_type": "code",
   "execution_count": 304,
   "id": "eb6c06e8-5a1a-4d6b-b7d7-118cb714f39c",
   "metadata": {},
   "outputs": [],
   "source": [
    "steps = np.where(draws == 0, 1, -1)"
   ]
  },
  {
   "cell_type": "code",
   "execution_count": 305,
   "id": "c63bad74-1203-4011-b331-853eed49d9e3",
   "metadata": {},
   "outputs": [],
   "source": [
    "walk = steps.cumsum()"
   ]
  },
  {
   "cell_type": "code",
   "execution_count": 306,
   "id": "b515d287-af3c-4265-b2b2-82a163ae553c",
   "metadata": {},
   "outputs": [
    {
     "data": {
      "text/plain": [
       "np.int64(-8)"
      ]
     },
     "execution_count": 306,
     "metadata": {},
     "output_type": "execute_result"
    }
   ],
   "source": [
    "walk.min()"
   ]
  },
  {
   "cell_type": "code",
   "execution_count": 307,
   "id": "3132a91c-af7f-4359-bc4c-8735347fa8c9",
   "metadata": {},
   "outputs": [
    {
     "data": {
      "text/plain": [
       "np.int64(50)"
      ]
     },
     "execution_count": 307,
     "metadata": {},
     "output_type": "execute_result"
    }
   ],
   "source": [
    "walk.max()"
   ]
  },
  {
   "cell_type": "code",
   "execution_count": 308,
   "id": "3f0c43b7-94f9-417e-8bbe-59ab2372c846",
   "metadata": {},
   "outputs": [
    {
     "data": {
      "text/plain": [
       "np.int64(155)"
      ]
     },
     "execution_count": 308,
     "metadata": {},
     "output_type": "execute_result"
    }
   ],
   "source": [
    "(np.abs(walk) >= 10).argmax()"
   ]
  },
  {
   "cell_type": "code",
   "execution_count": 309,
   "id": "709214e7-9855-4750-915c-8b27063bb215",
   "metadata": {},
   "outputs": [],
   "source": [
    "#Simulating Many Random Walks at Once"
   ]
  },
  {
   "cell_type": "code",
   "execution_count": 310,
   "id": "8896b7c7-c7e2-4d6c-9bc1-58ab8a06ec53",
   "metadata": {},
   "outputs": [],
   "source": [
    "nwalks = 5000"
   ]
  },
  {
   "cell_type": "code",
   "execution_count": 311,
   "id": "9a063395-763b-4fa8-9939-21f8cee7fb93",
   "metadata": {},
   "outputs": [],
   "source": [
    "nsteps = 1000"
   ]
  },
  {
   "cell_type": "code",
   "execution_count": 312,
   "id": "3175f2f3-4c35-441b-9b3f-acced8406a14",
   "metadata": {},
   "outputs": [],
   "source": [
    "draws = rng.integers(0, 2, size=(nwalks, nsteps)) # 0 or 1"
   ]
  },
  {
   "cell_type": "code",
   "execution_count": 313,
   "id": "0e008257-ab09-457e-a065-9e268ac186d8",
   "metadata": {},
   "outputs": [],
   "source": [
    "steps = np.where(draws > 0, 1, -1)"
   ]
  },
  {
   "cell_type": "code",
   "execution_count": 314,
   "id": "e1a42c00-d7cb-41bc-89af-144aff4d0087",
   "metadata": {},
   "outputs": [],
   "source": [
    "walks = steps.cumsum(axis=1)"
   ]
  },
  {
   "cell_type": "code",
   "execution_count": 315,
   "id": "a37cfe81-a8c3-47cf-8128-4851db7c85f5",
   "metadata": {},
   "outputs": [
    {
     "data": {
      "text/plain": [
       "array([[  1,   2,   3, ...,  22,  23,  22],\n",
       "       [  1,   0,  -1, ..., -50, -49, -48],\n",
       "       [  1,   2,   3, ...,  50,  49,  48],\n",
       "       ...,\n",
       "       [ -1,  -2,  -1, ..., -10,  -9, -10],\n",
       "       [ -1,  -2,  -3, ...,   8,   9,   8],\n",
       "       [ -1,   0,   1, ...,  -4,  -3,  -2]])"
      ]
     },
     "execution_count": 315,
     "metadata": {},
     "output_type": "execute_result"
    }
   ],
   "source": [
    "walks"
   ]
  },
  {
   "cell_type": "code",
   "execution_count": 316,
   "id": "7f23b2c3-9b3c-4128-9f14-930c7345840d",
   "metadata": {},
   "outputs": [
    {
     "data": {
      "text/plain": [
       "np.int64(114)"
      ]
     },
     "execution_count": 316,
     "metadata": {},
     "output_type": "execute_result"
    }
   ],
   "source": [
    "walks.max()"
   ]
  },
  {
   "cell_type": "code",
   "execution_count": 317,
   "id": "658629d1-5e97-4c71-8640-08ea74271538",
   "metadata": {},
   "outputs": [
    {
     "data": {
      "text/plain": [
       "np.int64(-120)"
      ]
     },
     "execution_count": 317,
     "metadata": {},
     "output_type": "execute_result"
    }
   ],
   "source": [
    "walks.min()"
   ]
  },
  {
   "cell_type": "code",
   "execution_count": 318,
   "id": "30ee8ce0-5d17-400a-91ee-c2db1724954a",
   "metadata": {},
   "outputs": [],
   "source": [
    "hits30 = (np.abs(walks) >= 30).any(axis=1)"
   ]
  },
  {
   "cell_type": "code",
   "execution_count": 319,
   "id": "dfd8a722-35cb-41b3-bb0e-3d5b9aaca050",
   "metadata": {},
   "outputs": [
    {
     "data": {
      "text/plain": [
       "array([False,  True,  True, ...,  True, False,  True])"
      ]
     },
     "execution_count": 319,
     "metadata": {},
     "output_type": "execute_result"
    }
   ],
   "source": [
    "hits30"
   ]
  },
  {
   "cell_type": "code",
   "execution_count": 320,
   "id": "09bd4793-a241-44e5-90d3-7190f02f4d58",
   "metadata": {},
   "outputs": [
    {
     "data": {
      "text/plain": [
       "np.int64(3395)"
      ]
     },
     "execution_count": 320,
     "metadata": {},
     "output_type": "execute_result"
    }
   ],
   "source": [
    "hits30.sum() # Number that hit 30 or -30"
   ]
  },
  {
   "cell_type": "code",
   "execution_count": 321,
   "id": "dea57052-0804-4bc6-9400-9cafa134d7b7",
   "metadata": {},
   "outputs": [],
   "source": [
    "crossing_times = (np.abs(walks[hits30]) >= 30).argmax(axis=1)"
   ]
  },
  {
   "cell_type": "code",
   "execution_count": 322,
   "id": "aaded2fc-5f11-4373-a09b-50c5fb7ef646",
   "metadata": {},
   "outputs": [
    {
     "data": {
      "text/plain": [
       "array([201, 491, 283, ..., 219, 259, 541])"
      ]
     },
     "execution_count": 322,
     "metadata": {},
     "output_type": "execute_result"
    }
   ],
   "source": [
    "crossing_times"
   ]
  },
  {
   "cell_type": "code",
   "execution_count": 323,
   "id": "1fa451b5-d704-4cef-9f80-db2b0819d42b",
   "metadata": {},
   "outputs": [
    {
     "data": {
      "text/plain": [
       "np.float64(500.5699558173785)"
      ]
     },
     "execution_count": 323,
     "metadata": {},
     "output_type": "execute_result"
    }
   ],
   "source": [
    "crossing_times.mean()"
   ]
  },
  {
   "cell_type": "code",
   "execution_count": 324,
   "id": "82d63147-fe43-45fe-8b42-9ba56d42be7e",
   "metadata": {},
   "outputs": [],
   "source": [
    "draws = 0.25 * rng.standard_normal((nwalks, nsteps))"
   ]
  },
  {
   "cell_type": "code",
   "execution_count": null,
   "id": "e80c209c-2c47-4ca9-b23e-11e0ebcffd6e",
   "metadata": {},
   "outputs": [],
   "source": []
  }
 ],
 "metadata": {
  "kernelspec": {
   "display_name": "Python 3 (ipykernel)",
   "language": "python",
   "name": "python3"
  },
  "language_info": {
   "codemirror_mode": {
    "name": "ipython",
    "version": 3
   },
   "file_extension": ".py",
   "mimetype": "text/x-python",
   "name": "python",
   "nbconvert_exporter": "python",
   "pygments_lexer": "ipython3",
   "version": "3.12.5"
  }
 },
 "nbformat": 4,
 "nbformat_minor": 5
}
