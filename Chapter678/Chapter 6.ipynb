{
 "cells": [
  {
   "cell_type": "code",
   "execution_count": 1,
   "id": "b0c4a298-d1b7-4c37-817a-aded1788f414",
   "metadata": {},
   "outputs": [],
   "source": [
    "#6  Data Loading, Storage, and File Formats"
   ]
  },
  {
   "cell_type": "code",
   "execution_count": 2,
   "id": "5d3b2a2e-306f-4c34-abea-ae428e219e8c",
   "metadata": {},
   "outputs": [],
   "source": [
    "#6.1 Reading and Writing Data in Text Format"
   ]
  },
  {
   "cell_type": "code",
   "execution_count": null,
   "id": "6bc0bb53-9c10-411a-889d-f2301f28b10a",
   "metadata": {},
   "outputs": [],
   "source": []
  }
 ],
 "metadata": {
  "kernelspec": {
   "display_name": "Python 3 (ipykernel)",
   "language": "python",
   "name": "python3"
  },
  "language_info": {
   "codemirror_mode": {
    "name": "ipython",
    "version": 3
   },
   "file_extension": ".py",
   "mimetype": "text/x-python",
   "name": "python",
   "nbconvert_exporter": "python",
   "pygments_lexer": "ipython3",
   "version": "3.12.5"
  }
 },
 "nbformat": 4,
 "nbformat_minor": 5
}
